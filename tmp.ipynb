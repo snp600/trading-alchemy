{
 "cells": [
  {
   "cell_type": "code",
   "execution_count": 89,
   "metadata": {},
   "outputs": [
    {
     "name": "stdout",
     "output_type": "stream",
     "text": [
      "Populating the interactive namespace from numpy and matplotlib\n"
     ]
    },
    {
     "data": {
      "text/plain": [
       "<Figure size 1080x504 with 0 Axes>"
      ]
     },
     "metadata": {},
     "output_type": "display_data"
    }
   ],
   "source": [
    "%pylab inline\n",
    "import os\n",
    "import matplotlib.pyplot as plt\n",
    "import pandas as pd\n",
    "import numpy as np\n",
    "import lightgbm as lgb\n",
    "import talib\n",
    "plt.figure(figsize(15,7));\n",
    "from datetime import datetime\n",
    "from sklearn.metrics import accuracy_score, roc_auc_score"
   ]
  },
  {
   "cell_type": "code",
   "execution_count": 2,
   "metadata": {},
   "outputs": [
    {
     "data": {
      "text/html": [
       "<div>\n",
       "<style scoped>\n",
       "    .dataframe tbody tr th:only-of-type {\n",
       "        vertical-align: middle;\n",
       "    }\n",
       "\n",
       "    .dataframe tbody tr th {\n",
       "        vertical-align: top;\n",
       "    }\n",
       "\n",
       "    .dataframe thead th {\n",
       "        text-align: right;\n",
       "    }\n",
       "</style>\n",
       "<table border=\"1\" class=\"dataframe\">\n",
       "  <thead>\n",
       "    <tr style=\"text-align: right;\">\n",
       "      <th></th>\n",
       "      <th>open time</th>\n",
       "      <th>open</th>\n",
       "      <th>high</th>\n",
       "      <th>low</th>\n",
       "      <th>close</th>\n",
       "      <th>volume</th>\n",
       "      <th>number of trades</th>\n",
       "    </tr>\n",
       "  </thead>\n",
       "  <tbody>\n",
       "    <tr>\n",
       "      <th>0</th>\n",
       "      <td>2019-01-01 00:00:00</td>\n",
       "      <td>3701.23</td>\n",
       "      <td>3713.00</td>\n",
       "      <td>3689.88</td>\n",
       "      <td>3700.31</td>\n",
       "      <td>686.4</td>\n",
       "      <td>5534</td>\n",
       "    </tr>\n",
       "    <tr>\n",
       "      <th>1</th>\n",
       "      <td>2019-01-01 01:00:00</td>\n",
       "      <td>3700.20</td>\n",
       "      <td>3702.73</td>\n",
       "      <td>3684.22</td>\n",
       "      <td>3689.69</td>\n",
       "      <td>613.5</td>\n",
       "      <td>5086</td>\n",
       "    </tr>\n",
       "    <tr>\n",
       "      <th>2</th>\n",
       "      <td>2019-01-01 02:00:00</td>\n",
       "      <td>3689.67</td>\n",
       "      <td>3695.95</td>\n",
       "      <td>3675.04</td>\n",
       "      <td>3690.00</td>\n",
       "      <td>895.3</td>\n",
       "      <td>6391</td>\n",
       "    </tr>\n",
       "    <tr>\n",
       "      <th>3</th>\n",
       "      <td>2019-01-01 03:00:00</td>\n",
       "      <td>3690.00</td>\n",
       "      <td>3699.77</td>\n",
       "      <td>3685.78</td>\n",
       "      <td>3693.13</td>\n",
       "      <td>796.7</td>\n",
       "      <td>5709</td>\n",
       "    </tr>\n",
       "    <tr>\n",
       "      <th>4</th>\n",
       "      <td>2019-01-01 04:00:00</td>\n",
       "      <td>3692.32</td>\n",
       "      <td>3720.00</td>\n",
       "      <td>3685.94</td>\n",
       "      <td>3692.71</td>\n",
       "      <td>1317.5</td>\n",
       "      <td>7908</td>\n",
       "    </tr>\n",
       "  </tbody>\n",
       "</table>\n",
       "</div>"
      ],
      "text/plain": [
       "             open time     open     high      low    close  volume  \\\n",
       "0  2019-01-01 00:00:00  3701.23  3713.00  3689.88  3700.31   686.4   \n",
       "1  2019-01-01 01:00:00  3700.20  3702.73  3684.22  3689.69   613.5   \n",
       "2  2019-01-01 02:00:00  3689.67  3695.95  3675.04  3690.00   895.3   \n",
       "3  2019-01-01 03:00:00  3690.00  3699.77  3685.78  3693.13   796.7   \n",
       "4  2019-01-01 04:00:00  3692.32  3720.00  3685.94  3692.71  1317.5   \n",
       "\n",
       "   number of trades  \n",
       "0              5534  \n",
       "1              5086  \n",
       "2              6391  \n",
       "3              5709  \n",
       "4              7908  "
      ]
     },
     "execution_count": 2,
     "metadata": {},
     "output_type": "execute_result"
    }
   ],
   "source": [
    "df = pd.read_csv('data/BTCUSDT_2019_1h.csv', sep='\\t')\n",
    "df.head()"
   ]
  },
  {
   "cell_type": "code",
   "execution_count": 21,
   "metadata": {},
   "outputs": [],
   "source": [
    "def rescale(df, window=4):\n",
    "    res = pd.DataFrame(columns=['open', 'high', 'low', 'close'])\n",
    "    res['open'] = df['open'].values[::window]\n",
    "    res['high'] = df['high'].rolling(window).max().dropna()[::window].values\n",
    "    res['low'] = df['low'].rolling(window).min().dropna()[::window].values\n",
    "    res['close'] = df['close'].values[window-1:][::window]\n",
    "    return res"
   ]
  },
  {
   "cell_type": "code",
   "execution_count": 3,
   "metadata": {},
   "outputs": [],
   "source": [
    "def candles_view(df, hours):\n",
    "    #recommended rows: <180\n",
    "    import matplotlib.patches as patches\n",
    "    open  = df.open\n",
    "    high  = df.high\n",
    "    low   = df.low\n",
    "    close = df.close\n",
    "    fig = plt.figure()\n",
    "    ax = fig.add_subplot(111)\n",
    "    k = 24/hours\n",
    "\n",
    "    r_width = 0.8 / k\n",
    "    periods = range(len(open))\n",
    "    for timestamp in periods:\n",
    "        r_height = abs(open[timestamp] - close[timestamp]) + 0.1\n",
    "        r_x = timestamp/k - r_width/2.0\n",
    "        r_y = min(open[timestamp], close[timestamp])\n",
    "        if (open[timestamp] > close[timestamp]):\n",
    "            ax.add_patch(patches.Rectangle((r_x, r_y), r_width, r_height, facecolor='r'))\n",
    "            plt.plot([timestamp/k, timestamp/k], [low[timestamp], high[timestamp]], 'r')\n",
    "        else:\n",
    "            ax.add_patch(patches.Rectangle((r_x, r_y), r_width, r_height, facecolor='g'))\n",
    "            plt.plot([timestamp/k, timestamp/k], [low[timestamp], high[timestamp]], 'g')\n",
    "\n",
    "    #mng = plt.get_current_fig_manager()\n",
    "    #mng.resize(*mng.window.maxsize())\n",
    "    plt.show()"
   ]
  },
  {
   "cell_type": "code",
   "execution_count": 35,
   "metadata": {},
   "outputs": [
    {
     "data": {
      "image/png": "[encoded data removed]",
      "text/plain": [
       "<Figure size 1080x504 with 1 Axes>"
      ]
     },
     "metadata": {
      "needs_background": "light"
     },
     "output_type": "display_data"
    }
   ],
   "source": [
    "candles_view(rescale(df[df.index<24*200], window=24), hours=24)"
   ]
  },
  {
   "cell_type": "code",
   "execution_count": 36,
   "metadata": {},
   "outputs": [
    {
     "data": {
      "image/png": "[encoded data removed]",
      "text/plain": [
       "<Figure size 1080x504 with 1 Axes>"
      ]
     },
     "metadata": {
      "needs_background": "light"
     },
     "output_type": "display_data"
    }
   ],
   "source": [
    "candles_view(df2, hours=1)"
   ]
  },
  {
   "cell_type": "code",
   "execution_count": 46,
   "metadata": {},
   "outputs": [
    {
     "data": {
      "text/plain": [
       "(8733, 3)"
      ]
     },
     "execution_count": 46,
     "metadata": {},
     "output_type": "execute_result"
    }
   ],
   "source": [
    "a = df[['open', 'volume', 'number of trades']].rename(columns={'open':'price'})\n",
    "a.shape"
   ]
  },
  {
   "cell_type": "code",
   "execution_count": 67,
   "metadata": {},
   "outputs": [],
   "source": [
    "a['ema_7'] = talib.MA(a.price, 2)\n",
    "a['ema_28'] = talib.MA(a.price, 2)\n",
    "a['ema_50'] = talib.MA(a.price, 2)\n",
    "a['rsi_7'] = talib.RSI(a.price, 7)\n",
    "a['rsi_28'] = talib.RSI(a.price, 28)\n",
    "a['mom_7'] = talib.MOM(a.price, 7)\n",
    "a['mom_28'] = talib.MOM(a.price, 28)"
   ]
  },
  {
   "cell_type": "code",
   "execution_count": 72,
   "metadata": {},
   "outputs": [],
   "source": [
    "a = a[a.index>28]"
   ]
  },
  {
   "cell_type": "code",
   "execution_count": 81,
   "metadata": {},
   "outputs": [
    {
     "data": {
      "text/plain": [
       "Index(['ma_2', 'rsi_7', 'rsi_28', 'ema_7', 'ema_28', 'ema_50', 'mom_7',\n",
       "       'mom_28'],\n",
       "      dtype='object')"
      ]
     },
     "execution_count": 81,
     "metadata": {},
     "output_type": "execute_result"
    }
   ],
   "source": [
    "features = a.columns[3:-2]\n",
    "features"
   ]
  },
  {
   "cell_type": "code",
   "execution_count": 83,
   "metadata": {},
   "outputs": [],
   "source": [
    "trn = a[a.index<7000]\n",
    "tst = a[a.index>=7000]"
   ]
  },
  {
   "cell_type": "code",
   "execution_count": 80,
   "metadata": {},
   "outputs": [
    {
     "data": {
      "text/html": [
       "<div>\n",
       "<style scoped>\n",
       "    .dataframe tbody tr th:only-of-type {\n",
       "        vertical-align: middle;\n",
       "    }\n",
       "\n",
       "    .dataframe tbody tr th {\n",
       "        vertical-align: top;\n",
       "    }\n",
       "\n",
       "    .dataframe thead th {\n",
       "        text-align: right;\n",
       "    }\n",
       "</style>\n",
       "<table border=\"1\" class=\"dataframe\">\n",
       "  <thead>\n",
       "    <tr style=\"text-align: right;\">\n",
       "      <th></th>\n",
       "      <th>price</th>\n",
       "      <th>volume</th>\n",
       "      <th>number of trades</th>\n",
       "      <th>ma_2</th>\n",
       "      <th>rsi_7</th>\n",
       "      <th>rsi_28</th>\n",
       "      <th>ema_7</th>\n",
       "      <th>ema_28</th>\n",
       "      <th>ema_50</th>\n",
       "      <th>mom_7</th>\n",
       "      <th>mom_28</th>\n",
       "      <th>target</th>\n",
       "      <th>target_price</th>\n",
       "    </tr>\n",
       "  </thead>\n",
       "  <tbody>\n",
       "    <tr>\n",
       "      <th>29</th>\n",
       "      <td>3776.16</td>\n",
       "      <td>415.8</td>\n",
       "      <td>5001</td>\n",
       "      <td>3778.080</td>\n",
       "      <td>64.716427</td>\n",
       "      <td>60.151666</td>\n",
       "      <td>3778.080</td>\n",
       "      <td>3778.080</td>\n",
       "      <td>3778.080</td>\n",
       "      <td>68.18</td>\n",
       "      <td>75.96</td>\n",
       "      <td>0</td>\n",
       "      <td>3773.04</td>\n",
       "    </tr>\n",
       "    <tr>\n",
       "      <th>30</th>\n",
       "      <td>3773.04</td>\n",
       "      <td>917.0</td>\n",
       "      <td>6808</td>\n",
       "      <td>3774.600</td>\n",
       "      <td>62.622088</td>\n",
       "      <td>59.608680</td>\n",
       "      <td>3774.600</td>\n",
       "      <td>3774.600</td>\n",
       "      <td>3774.600</td>\n",
       "      <td>60.19</td>\n",
       "      <td>83.37</td>\n",
       "      <td>0</td>\n",
       "      <td>3758.53</td>\n",
       "    </tr>\n",
       "    <tr>\n",
       "      <th>31</th>\n",
       "      <td>3758.53</td>\n",
       "      <td>1338.8</td>\n",
       "      <td>9727</td>\n",
       "      <td>3765.785</td>\n",
       "      <td>53.268788</td>\n",
       "      <td>57.121823</td>\n",
       "      <td>3765.785</td>\n",
       "      <td>3765.785</td>\n",
       "      <td>3765.785</td>\n",
       "      <td>-37.92</td>\n",
       "      <td>68.53</td>\n",
       "      <td>1</td>\n",
       "      <td>3772.64</td>\n",
       "    </tr>\n",
       "    <tr>\n",
       "      <th>32</th>\n",
       "      <td>3772.64</td>\n",
       "      <td>2216.6</td>\n",
       "      <td>14534</td>\n",
       "      <td>3765.585</td>\n",
       "      <td>60.040037</td>\n",
       "      <td>58.852969</td>\n",
       "      <td>3765.585</td>\n",
       "      <td>3765.585</td>\n",
       "      <td>3765.585</td>\n",
       "      <td>-5.98</td>\n",
       "      <td>80.32</td>\n",
       "      <td>1</td>\n",
       "      <td>3780.81</td>\n",
       "    </tr>\n",
       "    <tr>\n",
       "      <th>33</th>\n",
       "      <td>3780.81</td>\n",
       "      <td>1483.6</td>\n",
       "      <td>8460</td>\n",
       "      <td>3776.725</td>\n",
       "      <td>63.602685</td>\n",
       "      <td>59.826886</td>\n",
       "      <td>3776.725</td>\n",
       "      <td>3776.725</td>\n",
       "      <td>3776.725</td>\n",
       "      <td>10.83</td>\n",
       "      <td>86.83</td>\n",
       "      <td>0</td>\n",
       "      <td>3773.84</td>\n",
       "    </tr>\n",
       "  </tbody>\n",
       "</table>\n",
       "</div>"
      ],
      "text/plain": [
       "      price  volume  number of trades      ma_2      rsi_7     rsi_28  \\\n",
       "29  3776.16   415.8              5001  3778.080  64.716427  60.151666   \n",
       "30  3773.04   917.0              6808  3774.600  62.622088  59.608680   \n",
       "31  3758.53  1338.8              9727  3765.785  53.268788  57.121823   \n",
       "32  3772.64  2216.6             14534  3765.585  60.040037  58.852969   \n",
       "33  3780.81  1483.6              8460  3776.725  63.602685  59.826886   \n",
       "\n",
       "       ema_7    ema_28    ema_50  mom_7  mom_28  target  target_price  \n",
       "29  3778.080  3778.080  3778.080  68.18   75.96       0       3773.04  \n",
       "30  3774.600  3774.600  3774.600  60.19   83.37       0       3758.53  \n",
       "31  3765.785  3765.785  3765.785 -37.92   68.53       1       3772.64  \n",
       "32  3765.585  3765.585  3765.585  -5.98   80.32       1       3780.81  \n",
       "33  3776.725  3776.725  3776.725  10.83   86.83       0       3773.84  "
      ]
     },
     "execution_count": 80,
     "metadata": {},
     "output_type": "execute_result"
    }
   ],
   "source": [
    "a['target_price'] = a.price.shift(-1)\n",
    "a['target'] = (a['target_price'] > a['price']).astype(int)\n",
    "a.head()"
   ]
  },
  {
   "cell_type": "code",
   "execution_count": 84,
   "metadata": {},
   "outputs": [],
   "source": [
    "lgbm_params = {\n",
    "    'colsample_bytree': 0.4,\n",
    "    'lambda_l1': 2.5,\n",
    "    'lambda_l2': 7.5,\n",
    "    'bagging_fraction': 0.5,\n",
    "    'learning_rate': 0.2,\n",
    "    'num_leaves': 4,\n",
    "    'max_bin': 128,\n",
    "    'n_estimators': 50,\n",
    "}\n",
    "model = lgb.LGBMClassifier(**lgbm_params)"
   ]
  },
  {
   "cell_type": "code",
   "execution_count": 86,
   "metadata": {},
   "outputs": [],
   "source": [
    "model.fit(trn[features], trn['target']);"
   ]
  },
  {
   "cell_type": "code",
   "execution_count": 92,
   "metadata": {},
   "outputs": [
    {
     "name": "stdout",
     "output_type": "stream",
     "text": [
      "0.6073921739020047\n",
      "0.564153534288028\n"
     ]
    }
   ],
   "source": [
    "print(roc_auc_score(trn['target'], model.predict_proba(trn[features])[:, 1]))\n",
    "print(roc_auc_score(tst['target'], model.predict_proba(tst[features])[:, 1]))"
   ]
  },
  {
   "cell_type": "code",
   "execution_count": 97,
   "metadata": {},
   "outputs": [
    {
     "data": {
      "image/png": "[encoded data removed]",
      "text/plain": [
       "<Figure size 576x432 with 1 Axes>"
      ]
     },
     "metadata": {
      "needs_background": "light"
     },
     "output_type": "display_data"
    }
   ],
   "source": [
    "importances = model.feature_importances_\n",
    "tmp = pd.DataFrame(data={'importance':importances}, index=features).sort_values(by='importance', ascending=True)\n",
    "tmp.plot(kind='barh', figsize=(8,6));"
   ]
  },
  {
   "cell_type": "code",
   "execution_count": 48,
   "metadata": {},
   "outputs": [
    {
     "data": {
      "text/html": [
       "<div>\n",
       "<style scoped>\n",
       "    .dataframe tbody tr th:only-of-type {\n",
       "        vertical-align: middle;\n",
       "    }\n",
       "\n",
       "    .dataframe tbody tr th {\n",
       "        vertical-align: top;\n",
       "    }\n",
       "\n",
       "    .dataframe thead th {\n",
       "        text-align: right;\n",
       "    }\n",
       "</style>\n",
       "<table border=\"1\" class=\"dataframe\">\n",
       "  <thead>\n",
       "    <tr style=\"text-align: right;\">\n",
       "      <th></th>\n",
       "      <th>price</th>\n",
       "      <th>volume</th>\n",
       "      <th>number of trades</th>\n",
       "      <th>ma_2</th>\n",
       "      <th>rsi_7</th>\n",
       "      <th>rsi_28</th>\n",
       "    </tr>\n",
       "  </thead>\n",
       "  <tbody>\n",
       "    <tr>\n",
       "      <th>0</th>\n",
       "      <td>3701.23</td>\n",
       "      <td>686.4</td>\n",
       "      <td>5534</td>\n",
       "      <td>NaN</td>\n",
       "      <td>NaN</td>\n",
       "      <td>NaN</td>\n",
       "    </tr>\n",
       "    <tr>\n",
       "      <th>1</th>\n",
       "      <td>3700.20</td>\n",
       "      <td>613.5</td>\n",
       "      <td>5086</td>\n",
       "      <td>3700.715</td>\n",
       "      <td>NaN</td>\n",
       "      <td>NaN</td>\n",
       "    </tr>\n",
       "    <tr>\n",
       "      <th>2</th>\n",
       "      <td>3689.67</td>\n",
       "      <td>895.3</td>\n",
       "      <td>6391</td>\n",
       "      <td>3694.935</td>\n",
       "      <td>NaN</td>\n",
       "      <td>NaN</td>\n",
       "    </tr>\n",
       "    <tr>\n",
       "      <th>3</th>\n",
       "      <td>3690.00</td>\n",
       "      <td>796.7</td>\n",
       "      <td>5709</td>\n",
       "      <td>3689.835</td>\n",
       "      <td>NaN</td>\n",
       "      <td>NaN</td>\n",
       "    </tr>\n",
       "    <tr>\n",
       "      <th>4</th>\n",
       "      <td>3692.32</td>\n",
       "      <td>1317.5</td>\n",
       "      <td>7908</td>\n",
       "      <td>3691.160</td>\n",
       "      <td>NaN</td>\n",
       "      <td>NaN</td>\n",
       "    </tr>\n",
       "  </tbody>\n",
       "</table>\n",
       "</div>"
      ],
      "text/plain": [
       "     price  volume  number of trades      ma_2  rsi_7  rsi_28\n",
       "0  3701.23   686.4              5534       NaN    NaN     NaN\n",
       "1  3700.20   613.5              5086  3700.715    NaN     NaN\n",
       "2  3689.67   895.3              6391  3694.935    NaN     NaN\n",
       "3  3690.00   796.7              5709  3689.835    NaN     NaN\n",
       "4  3692.32  1317.5              7908  3691.160    NaN     NaN"
      ]
     },
     "execution_count": 48,
     "metadata": {},
     "output_type": "execute_result"
    }
   ],
   "source": [
    "a.head()"
   ]
  },
  {
   "cell_type": "code",
   "execution_count": 42,
   "metadata": {},
   "outputs": [
    {
     "data": {
      "text/plain": [
       "{'Cycle Indicators': ['HT_DCPERIOD',\n",
       "  'HT_DCPHASE',\n",
       "  'HT_PHASOR',\n",
       "  'HT_SINE',\n",
       "  'HT_TRENDMODE'],\n",
       " 'Math Operators': ['ADD',\n",
       "  'DIV',\n",
       "  'MAX',\n",
       "  'MAXINDEX',\n",
       "  'MIN',\n",
       "  'MININDEX',\n",
       "  'MINMAX',\n",
       "  'MINMAXINDEX',\n",
       "  'MULT',\n",
       "  'SUB',\n",
       "  'SUM'],\n",
       " 'Math Transform': ['ACOS',\n",
       "  'ASIN',\n",
       "  'ATAN',\n",
       "  'CEIL',\n",
       "  'COS',\n",
       "  'COSH',\n",
       "  'EXP',\n",
       "  'FLOOR',\n",
       "  'LN',\n",
       "  'LOG10',\n",
       "  'SIN',\n",
       "  'SINH',\n",
       "  'SQRT',\n",
       "  'TAN',\n",
       "  'TANH'],\n",
       " 'Momentum Indicators': ['ADX',\n",
       "  'ADXR',\n",
       "  'APO',\n",
       "  'AROON',\n",
       "  'AROONOSC',\n",
       "  'BOP',\n",
       "  'CCI',\n",
       "  'CMO',\n",
       "  'DX',\n",
       "  'MACD',\n",
       "  'MACDEXT',\n",
       "  'MACDFIX',\n",
       "  'MFI',\n",
       "  'MINUS_DI',\n",
       "  'MINUS_DM',\n",
       "  'MOM',\n",
       "  'PLUS_DI',\n",
       "  'PLUS_DM',\n",
       "  'PPO',\n",
       "  'ROC',\n",
       "  'ROCP',\n",
       "  'ROCR',\n",
       "  'ROCR100',\n",
       "  'RSI',\n",
       "  'STOCH',\n",
       "  'STOCHF',\n",
       "  'STOCHRSI',\n",
       "  'TRIX',\n",
       "  'ULTOSC',\n",
       "  'WILLR'],\n",
       " 'Overlap Studies': ['BBANDS',\n",
       "  'DEMA',\n",
       "  'EMA',\n",
       "  'HT_TRENDLINE',\n",
       "  'KAMA',\n",
       "  'MA',\n",
       "  'MAMA',\n",
       "  'MAVP',\n",
       "  'MIDPOINT',\n",
       "  'MIDPRICE',\n",
       "  'SAR',\n",
       "  'SAREXT',\n",
       "  'SMA',\n",
       "  'T3',\n",
       "  'TEMA',\n",
       "  'TRIMA',\n",
       "  'WMA'],\n",
       " 'Pattern Recognition': ['CDL2CROWS',\n",
       "  'CDL3BLACKCROWS',\n",
       "  'CDL3INSIDE',\n",
       "  'CDL3LINESTRIKE',\n",
       "  'CDL3OUTSIDE',\n",
       "  'CDL3STARSINSOUTH',\n",
       "  'CDL3WHITESOLDIERS',\n",
       "  'CDLABANDONEDBABY',\n",
       "  'CDLADVANCEBLOCK',\n",
       "  'CDLBELTHOLD',\n",
       "  'CDLBREAKAWAY',\n",
       "  'CDLCLOSINGMARUBOZU',\n",
       "  'CDLCONCEALBABYSWALL',\n",
       "  'CDLCOUNTERATTACK',\n",
       "  'CDLDARKCLOUDCOVER',\n",
       "  'CDLDOJI',\n",
       "  'CDLDOJISTAR',\n",
       "  'CDLDRAGONFLYDOJI',\n",
       "  'CDLENGULFING',\n",
       "  'CDLEVENINGDOJISTAR',\n",
       "  'CDLEVENINGSTAR',\n",
       "  'CDLGAPSIDESIDEWHITE',\n",
       "  'CDLGRAVESTONEDOJI',\n",
       "  'CDLHAMMER',\n",
       "  'CDLHANGINGMAN',\n",
       "  'CDLHARAMI',\n",
       "  'CDLHARAMICROSS',\n",
       "  'CDLHIGHWAVE',\n",
       "  'CDLHIKKAKE',\n",
       "  'CDLHIKKAKEMOD',\n",
       "  'CDLHOMINGPIGEON',\n",
       "  'CDLIDENTICAL3CROWS',\n",
       "  'CDLINNECK',\n",
       "  'CDLINVERTEDHAMMER',\n",
       "  'CDLKICKING',\n",
       "  'CDLKICKINGBYLENGTH',\n",
       "  'CDLLADDERBOTTOM',\n",
       "  'CDLLONGLEGGEDDOJI',\n",
       "  'CDLLONGLINE',\n",
       "  'CDLMARUBOZU',\n",
       "  'CDLMATCHINGLOW',\n",
       "  'CDLMATHOLD',\n",
       "  'CDLMORNINGDOJISTAR',\n",
       "  'CDLMORNINGSTAR',\n",
       "  'CDLONNECK',\n",
       "  'CDLPIERCING',\n",
       "  'CDLRICKSHAWMAN',\n",
       "  'CDLRISEFALL3METHODS',\n",
       "  'CDLSEPARATINGLINES',\n",
       "  'CDLSHOOTINGSTAR',\n",
       "  'CDLSHORTLINE',\n",
       "  'CDLSPINNINGTOP',\n",
       "  'CDLSTALLEDPATTERN',\n",
       "  'CDLSTICKSANDWICH',\n",
       "  'CDLTAKURI',\n",
       "  'CDLTASUKIGAP',\n",
       "  'CDLTHRUSTING',\n",
       "  'CDLTRISTAR',\n",
       "  'CDLUNIQUE3RIVER',\n",
       "  'CDLUPSIDEGAP2CROWS',\n",
       "  'CDLXSIDEGAP3METHODS'],\n",
       " 'Price Transform': ['AVGPRICE', 'MEDPRICE', 'TYPPRICE', 'WCLPRICE'],\n",
       " 'Statistic Functions': ['BETA',\n",
       "  'CORREL',\n",
       "  'LINEARREG',\n",
       "  'LINEARREG_ANGLE',\n",
       "  'LINEARREG_INTERCEPT',\n",
       "  'LINEARREG_SLOPE',\n",
       "  'STDDEV',\n",
       "  'TSF',\n",
       "  'VAR'],\n",
       " 'Volatility Indicators': ['ATR', 'NATR', 'TRANGE'],\n",
       " 'Volume Indicators': ['AD', 'ADOSC', 'OBV']}"
      ]
     },
     "execution_count": 42,
     "metadata": {},
     "output_type": "execute_result"
    }
   ],
   "source": [
    "talib.get_function_groups()"
   ]
  },
  {
   "cell_type": "code",
   "execution_count": null,
   "metadata": {},
   "outputs": [],
   "source": []
  }
 ],
 "metadata": {
  "kernelspec": {
   "display_name": "Python 3",
   "language": "python",
   "name": "python3"
  },
  "language_info": {
   "codemirror_mode": {
    "name": "ipython",
    "version": 3
   },
   "file_extension": ".py",
   "mimetype": "text/x-python",
   "name": "python",
   "nbconvert_exporter": "python",
   "pygments_lexer": "ipython3",
   "version": "3.7.6"
  }
 },
 "nbformat": 4,
 "nbformat_minor": 4
}
