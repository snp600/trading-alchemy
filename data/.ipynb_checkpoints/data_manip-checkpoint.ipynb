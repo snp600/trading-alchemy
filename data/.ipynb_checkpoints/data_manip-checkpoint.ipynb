{
 "cells": [
  {
   "cell_type": "code",
   "execution_count": 2,
   "metadata": {
    "collapsed": false
   },
   "outputs": [
    {
     "ename": "TypeError",
     "evalue": "list indices must be integers or slices, not str",
     "output_type": "error",
     "traceback": [
      "\u001b[0;31m---------------------------------------------------------------------------\u001b[0m",
      "\u001b[0;31mTypeError\u001b[0m                                 Traceback (most recent call last)",
      "\u001b[0;32m<ipython-input-2-09c193ba0e5b>\u001b[0m in \u001b[0;36m<module>\u001b[0;34m\u001b[0m\n\u001b[1;32m      8\u001b[0m     \u001b[0mcsv_file\u001b[0m \u001b[0;34m=\u001b[0m \u001b[0mcsv\u001b[0m\u001b[0;34m.\u001b[0m\u001b[0mwriter\u001b[0m\u001b[0;34m(\u001b[0m\u001b[0mfile\u001b[0m\u001b[0;34m)\u001b[0m\u001b[0;34m\u001b[0m\u001b[0m\n\u001b[1;32m      9\u001b[0m     \u001b[0;32mfor\u001b[0m \u001b[0mitem\u001b[0m \u001b[0;32min\u001b[0m \u001b[0mdata\u001b[0m\u001b[0;34m:\u001b[0m\u001b[0;34m\u001b[0m\u001b[0m\n\u001b[0;32m---> 10\u001b[0;31m         \u001b[0mcsv_file\u001b[0m\u001b[0;34m.\u001b[0m\u001b[0mwriterow\u001b[0m\u001b[0;34m(\u001b[0m\u001b[0;34m[\u001b[0m\u001b[0mitem\u001b[0m\u001b[0;34m[\u001b[0m\u001b[0;34m'pk'\u001b[0m\u001b[0;34m]\u001b[0m\u001b[0;34m,\u001b[0m \u001b[0mitem\u001b[0m\u001b[0;34m[\u001b[0m\u001b[0;34m'model'\u001b[0m\u001b[0;34m]\u001b[0m\u001b[0;34m]\u001b[0m \u001b[0;34m+\u001b[0m \u001b[0mitem\u001b[0m\u001b[0;34m[\u001b[0m\u001b[0;34m'fields'\u001b[0m\u001b[0;34m]\u001b[0m\u001b[0;34m.\u001b[0m\u001b[0mvalues\u001b[0m\u001b[0;34m(\u001b[0m\u001b[0;34m)\u001b[0m\u001b[0;34m)\u001b[0m\u001b[0;34m\u001b[0m\u001b[0m\n\u001b[0m",
      "\u001b[0;31mTypeError\u001b[0m: list indices must be integers or slices, not str"
     ]
    }
   ],
   "source": [
    "import json\n",
    "import csv\n",
    "\n",
    "def read_json(filename):\n",
    "    return json.loads(open(filename).read())\n",
    "\n",
    "def write_csv(data,filename):\n",
    "    with open(filename, 'w+') as outf:\n",
    "        writer = csv.DictWriter(outf, data[0].keys())\n",
    "        writer.writeheader()\n",
    "        for row in data:\n",
    "            writer.writerow(row)\n",
    "# implement\n",
    "write_csv(read_json('Binance_ETHUSDT_1d_1 Jan, 2019-10 Jan, 2019.json'), \\\n",
    "          'Binance_ETHUSDT_1d_1 Jan, 2019-10 Jan, 2019.csv')"
   ]
  },
  {
   "cell_type": "code",
   "execution_count": 1,
   "metadata": {
    "collapsed": false
   },
   "outputs": [
    {
     "name": "stdout",
     "output_type": "stream",
     "text": [
      "              0       1       2       3       4             5              6   \\\n",
      "0  1546300800000  131.45  140.67  130.00  139.10  401776.88797  1546387199999   \n",
      "1  1546387200000  139.10  155.37  137.76  152.01  941486.31524  1546473599999   \n",
      "2  1546473600000  152.01  153.64  143.11  146.30  708091.31714  1546559999999   \n",
      "3  1546560000000  146.30  154.80  143.54  151.97  805248.93821  1546646399999   \n",
      "4  1546646400000  152.08  159.26  151.20  152.83  773169.13736  1546732799999   \n",
      "\n",
      "             7       8             9             10  11  \n",
      "0  5.428039e+07  125799  204877.27101  2.765899e+07   0  \n",
      "1  1.388015e+08  253070  452778.41302  6.682609e+07   0  \n",
      "2  1.049535e+08  206600  345065.32126  5.114690e+07   0  \n",
      "3  1.208271e+08  224385  398803.89556  5.987833e+07   0  \n",
      "4  1.202383e+08  231172  383106.49462  5.961525e+07   0  \n"
     ]
    }
   ],
   "source": [
    "import json\n",
    "import pandas as pd\n",
    "\n",
    "filename = \"Binance_ETHUSDT_1d_1 Jan, 2019-10 Jan, 2019.json\"\n",
    "\n",
    "df = pd.read_json(filename)\n",
    "\n",
    "#df = df.to_csv()\n",
    "\n",
    "print(df.head())"
   ]
  }
 ],
 "metadata": {
  "kernelspec": {
   "display_name": "Python 3",
   "language": "python",
   "name": "python3"
  },
  "language_info": {
   "codemirror_mode": {
    "name": "ipython",
    "version": 3
   },
   "file_extension": ".py",
   "mimetype": "text/x-python",
   "name": "python",
   "nbconvert_exporter": "python",
   "pygments_lexer": "ipython3",
   "version": "3.6.3"
  }
 },
 "nbformat": 4,
 "nbformat_minor": 2
}
