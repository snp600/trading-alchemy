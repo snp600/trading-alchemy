{
 "cells": [
  {
   "cell_type": "code",
   "execution_count": null,
   "metadata": {
    "collapsed": true
   },
   "outputs": [],
   "source": [
    "#Warning: API calls\n",
    "\n",
    "import json\n",
    "from binance.client import Client\n",
    "\n",
    "client = Client(\"\", \"\")\n",
    "\n",
    "symbol = \"EOSUSDT\"\n",
    "start = \"1 Jan, 2019\"\n",
    "end = \"1 Mar, 2019\"\n",
    "interval = Client.KLINE_INTERVAL_1DAY\n",
    "\n",
    "klines = client.get_historical_klines(symbol, interval, start, end)\n",
    "\n",
    "filename_json = \"Binance_{}_{}_{}-{}.json\".format(symbol, interval, start, end)\n",
    "\n",
    "with open(filename_json,'w') as f:\n",
    "    f.write(json.dumps(klines))"
   ]
  },
  {
   "cell_type": "code",
   "execution_count": null,
   "metadata": {
    "collapsed": true
   },
   "outputs": [],
   "source": [
    "# 0)  Open time\n",
    "# 1)  Open\n",
    "# 2)  High\n",
    "# 3)  Low\n",
    "# 4)  Close\n",
    "# 5)  Volume\n",
    "# 6)  Close time\n",
    "# 7)  Quote asset volume\n",
    "# 8)  Number of trades\n",
    "# 9)  Taker buy base asset volume\n",
    "# 10) Taker buy quote asset volume\n",
    "# 11) Ignore"
   ]
  },
  {
   "cell_type": "code",
   "execution_count": null,
   "metadata": {
    "collapsed": false
   },
   "outputs": [],
   "source": [
    "import pandas as pd\n",
    "\n",
    "df = pd.read_json(filename_json)\n",
    "df.drop([6, 7, 9, 10, 11], inplace=True, axis=1) #drop inconsiderable data\n",
    "df.columns = [\"open time\", \"open\", \"high\", \"low\", \"close\", \"volume\", \"number of trades\"]\n",
    "\n",
    "df[\"volume\"] = df[\"volume\"].apply(lambda x : round(x, 1))\n",
    "#converting milliseconds to datetime\n",
    "df[\"open time\"] = df[\"open time\"].apply(lambda x: pd.to_datetime(x, unit='ms').to_pydatetime())\n",
    "\n",
    "df.head()"
   ]
  },
  {
   "cell_type": "code",
   "execution_count": null,
   "metadata": {
    "collapsed": false
   },
   "outputs": [],
   "source": [
    "# .csv if needed\n",
    "\n",
    "filename_csv = filename_json[:-4] + \"csv\"\n",
    "df.to_csv(filename_csv, sep='\\t', encoding='utf-8', index=False)\n",
    "\n",
    "data = pd.read_csv(filename_csv, sep='\\t')\n",
    "#print((df.shape, (31+28)*24))\n",
    "data.head()"
   ]
  }
 ],
 "metadata": {
  "kernelspec": {
   "display_name": "Python 3",
   "language": "python",
   "name": "python3"
  },
  "language_info": {
   "codemirror_mode": {
    "name": "ipython",
    "version": 3
   },
   "file_extension": ".py",
   "mimetype": "text/x-python",
   "name": "python",
   "nbconvert_exporter": "python",
   "pygments_lexer": "ipython3",
   "version": "3.6.3"
  }
 },
 "nbformat": 4,
 "nbformat_minor": 2
}
