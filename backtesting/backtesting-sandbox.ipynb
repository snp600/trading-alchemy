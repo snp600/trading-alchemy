{
 "cells": [
  {
   "cell_type": "code",
   "execution_count": 1,
   "metadata": {
    "collapsed": false
   },
   "outputs": [
    {
     "name": "stdout",
     "output_type": "stream",
     "text": [
      "Populating the interactive namespace from numpy and matplotlib\n"
     ]
    }
   ],
   "source": [
    "%pylab inline\n",
    "import matplotlib.pyplot as plt\n",
    "import pandas as pd\n",
    "import os\n",
    "\n",
    "PATH_TO_DATA = os.getcwd()\n",
    "PATH_TO_DATA = PATH_TO_DATA[:-PATH_TO_DATA[::-1].find(\"/\")]\n",
    "PATH_TO_DATA += \"data/6-months/\""
   ]
  },
  {
   "cell_type": "code",
   "execution_count": 2,
   "metadata": {
    "collapsed": false
   },
   "outputs": [
    {
     "data": {
      "text/plain": [
       "(1086, 7)"
      ]
     },
     "execution_count": 2,
     "metadata": {},
     "output_type": "execute_result"
    }
   ],
   "source": [
    "btc_df = pd.read_csv(PATH_TO_DATA + \"Binance_BTCUSDT_4h_1 Sep, 2018-1 Mar, 2019.csv\", sep='\\t')\n",
    "btc_df.shape"
   ]
  },
  {
   "cell_type": "code",
   "execution_count": 3,
   "metadata": {
    "collapsed": false
   },
   "outputs": [
    {
     "data": {
      "text/plain": [
       "[<matplotlib.lines.Line2D at 0x7fba59198470>]"
      ]
     },
     "execution_count": 3,
     "metadata": {},
     "output_type": "execute_result"
    },
    {
     "data": {
      "image/png": "[encoded data removed]",
      "text/plain": [
       "<Figure size 432x288 with 1 Axes>"
      ]
     },
     "metadata": {
      "needs_background": "light"
     },
     "output_type": "display_data"
    }
   ],
   "source": [
    "from strategies import MovingAverage\n",
    "balance = MovingAverage().ma_cross_strategy(btc_df[\"open\"].values, 13, 25)\n",
    "plt.plot(range(len(balance)), balance)"
   ]
  },
  {
   "cell_type": "code",
   "execution_count": 4,
   "metadata": {
    "collapsed": false,
    "scrolled": true
   },
   "outputs": [
    {
     "data": {
      "text/plain": [
       "[<matplotlib.lines.Line2D at 0x7fba591261d0>]"
      ]
     },
     "execution_count": 4,
     "metadata": {},
     "output_type": "execute_result"
    },
    {
     "data": {
      "image/png": "[encoded data removed]",
      "text/plain": [
       "<Figure size 432x288 with 1 Axes>"
      ]
     },
     "metadata": {
      "needs_background": "light"
     },
     "output_type": "display_data"
    }
   ],
   "source": [
    "balance = MovingAverage().ma_cross_strategy_sltp(btc_df[\"open\"].values, 13, 25)\n",
    "plt.plot(range(len(balance)), balance)"
   ]
  },
  {
   "cell_type": "code",
   "execution_count": 5,
   "metadata": {
    "collapsed": true
   },
   "outputs": [],
   "source": [
    "def simple_grid_search_sltp(data, params, f, metrics='last', family=\"sma\"):\n",
    "    scores_df = pd.DataFrame(columns=[\"stop_loss\", \"take_profit\", \"score\"])\n",
    "    sl_start = params[0]\n",
    "    sl_stop = params[1]\n",
    "    tp_start   = params[2]\n",
    "    tp_stop   = params[3]\n",
    "    i = 0\n",
    "    if (metrics == 'last'):\n",
    "        for sl in np.arange(sl_start, sl_stop, 0.02):\n",
    "            for tp in np.arange(tp_start, tp_stop, 0.02):\n",
    "                balance = f(data, stop_loss=sl, take_profit=tp, family=family)\n",
    "                score = balance[-1]\n",
    "                scores_df.loc[i] = [sl, tp, score]\n",
    "                i += 1\n",
    "            \n",
    "    return scores_df"
   ]
  },
  {
   "cell_type": "code",
   "execution_count": 22,
   "metadata": {
    "collapsed": false
   },
   "outputs": [
    {
     "data": {
      "text/html": [
       "<div>\n",
       "<style scoped>\n",
       "    .dataframe tbody tr th:only-of-type {\n",
       "        vertical-align: middle;\n",
       "    }\n",
       "\n",
       "    .dataframe tbody tr th {\n",
       "        vertical-align: top;\n",
       "    }\n",
       "\n",
       "    .dataframe thead th {\n",
       "        text-align: right;\n",
       "    }\n",
       "</style>\n",
       "<table border=\"1\" class=\"dataframe\">\n",
       "  <thead>\n",
       "    <tr style=\"text-align: right;\">\n",
       "      <th></th>\n",
       "      <th>stop_loss</th>\n",
       "      <th>take_profit</th>\n",
       "      <th>score</th>\n",
       "    </tr>\n",
       "  </thead>\n",
       "  <tbody>\n",
       "    <tr>\n",
       "      <th>9</th>\n",
       "      <td>0.04</td>\n",
       "      <td>0.02</td>\n",
       "      <td>1056.024845</td>\n",
       "    </tr>\n",
       "    <tr>\n",
       "      <th>10</th>\n",
       "      <td>0.04</td>\n",
       "      <td>0.04</td>\n",
       "      <td>1054.349082</td>\n",
       "    </tr>\n",
       "    <tr>\n",
       "      <th>16</th>\n",
       "      <td>0.04</td>\n",
       "      <td>0.16</td>\n",
       "      <td>1054.349082</td>\n",
       "    </tr>\n",
       "    <tr>\n",
       "      <th>15</th>\n",
       "      <td>0.04</td>\n",
       "      <td>0.14</td>\n",
       "      <td>1054.349082</td>\n",
       "    </tr>\n",
       "    <tr>\n",
       "      <th>14</th>\n",
       "      <td>0.04</td>\n",
       "      <td>0.12</td>\n",
       "      <td>1054.349082</td>\n",
       "    </tr>\n",
       "  </tbody>\n",
       "</table>\n",
       "</div>"
      ],
      "text/plain": [
       "    stop_loss  take_profit        score\n",
       "9        0.04         0.02  1056.024845\n",
       "10       0.04         0.04  1054.349082\n",
       "16       0.04         0.16  1054.349082\n",
       "15       0.04         0.14  1054.349082\n",
       "14       0.04         0.12  1054.349082"
      ]
     },
     "execution_count": 22,
     "metadata": {},
     "output_type": "execute_result"
    }
   ],
   "source": [
    "df = simple_grid_search_sltp(btc_df[\"open\"].values, params=(0.02, 0.20, 0.02, 0.20), \n",
    "                        f=MovingAverage().ma_cross_strategy_sltp, family=\"ema\")\n",
    "df.sort_values(by=['score'], inplace=True, ascending=False)\n",
    "df.head()"
   ]
  },
  {
   "cell_type": "code",
   "execution_count": 15,
   "metadata": {
    "collapsed": false
   },
   "outputs": [
    {
     "name": "stdout",
     "output_type": "stream",
     "text": [
      "898.6664347205409\n",
      "962.3187061482139\n"
     ]
    }
   ],
   "source": [
    "df[\"sign\"] = np.sign(df[\"stop_loss\"] - df[\"take_profit\"]) #stop_loss < take_profit?\n",
    "print(mean(df[df[\"sign\"] > 0][\"score\"]))\n",
    "print(mean(df[df[\"sign\"] < 0][\"score\"]))"
   ]
  },
  {
   "cell_type": "code",
   "execution_count": 26,
   "metadata": {
    "collapsed": false
   },
   "outputs": [
    {
     "data": {
      "text/plain": [
       "[<matplotlib.lines.Line2D at 0x7fba58d283c8>]"
      ]
     },
     "execution_count": 26,
     "metadata": {},
     "output_type": "execute_result"
    },
    {
     "data": {
      "image/png": "[encoded data removed]",
      "text/plain": [
       "<Figure size 432x288 with 1 Axes>"
      ]
     },
     "metadata": {
      "needs_background": "light"
     },
     "output_type": "display_data"
    }
   ],
   "source": [
    "balance = MovingAverage().ma_cross_strategy_sltp(btc_df[\"open\"].values, \n",
    "                                                 fast_h=5, slow_h=13, \n",
    "                                                 stop_loss=0.04, take_profit=0.08)\n",
    "plt.plot(range(len(balance)), balance)"
   ]
  },
  {
   "cell_type": "code",
   "execution_count": 13,
   "metadata": {
    "collapsed": false
   },
   "outputs": [],
   "source": [
    "def simple_grid_search(data, params, f, metrics='last', family=\"sma\"):\n",
    "    scores_df = pd.DataFrame(columns=[\"fast_h\", \"slow_h\", \"score\"])\n",
    "    start_fast = params[0]\n",
    "    start_slow = params[1]\n",
    "    end_slow   = params[2]\n",
    "    i = 0\n",
    "    if (metrics == 'last'):\n",
    "        for slow in range(start_slow, end_slow):\n",
    "            for fast in range(start_fast, slow):\n",
    "                balance = f(data, fast, slow, family=family)\n",
    "                score = balance[-1]\n",
    "                scores_df.loc[i] = [fast, slow, score]\n",
    "                i += 1\n",
    "            \n",
    "    return scores_df"
   ]
  },
  {
   "cell_type": "code",
   "execution_count": 9,
   "metadata": {
    "collapsed": false
   },
   "outputs": [],
   "source": [
    "#import os\n",
    "#os.sys.path\n",
    "#parent_path = os.getcwd()[:-12]\n",
    "#os.sys.path.append(parent_path)\n",
    "#os.sys.path"
   ]
  },
  {
   "cell_type": "code",
   "execution_count": 10,
   "metadata": {
    "collapsed": false
   },
   "outputs": [
    {
     "data": {
      "text/html": [
       "<div>\n",
       "<style scoped>\n",
       "    .dataframe tbody tr th:only-of-type {\n",
       "        vertical-align: middle;\n",
       "    }\n",
       "\n",
       "    .dataframe tbody tr th {\n",
       "        vertical-align: top;\n",
       "    }\n",
       "\n",
       "    .dataframe thead th {\n",
       "        text-align: right;\n",
       "    }\n",
       "</style>\n",
       "<table border=\"1\" class=\"dataframe\">\n",
       "  <thead>\n",
       "    <tr style=\"text-align: right;\">\n",
       "      <th></th>\n",
       "      <th>fast_h</th>\n",
       "      <th>slow_h</th>\n",
       "      <th>score</th>\n",
       "    </tr>\n",
       "  </thead>\n",
       "  <tbody>\n",
       "    <tr>\n",
       "      <th>106</th>\n",
       "      <td>5.0</td>\n",
       "      <td>16.0</td>\n",
       "      <td>1029.408577</td>\n",
       "    </tr>\n",
       "    <tr>\n",
       "      <th>247</th>\n",
       "      <td>20.0</td>\n",
       "      <td>23.0</td>\n",
       "      <td>1016.950456</td>\n",
       "    </tr>\n",
       "    <tr>\n",
       "      <th>92</th>\n",
       "      <td>5.0</td>\n",
       "      <td>15.0</td>\n",
       "      <td>1015.066947</td>\n",
       "    </tr>\n",
       "    <tr>\n",
       "      <th>79</th>\n",
       "      <td>5.0</td>\n",
       "      <td>14.0</td>\n",
       "      <td>1012.285109</td>\n",
       "    </tr>\n",
       "    <tr>\n",
       "      <th>268</th>\n",
       "      <td>19.0</td>\n",
       "      <td>24.0</td>\n",
       "      <td>1001.653481</td>\n",
       "    </tr>\n",
       "  </tbody>\n",
       "</table>\n",
       "</div>"
      ],
      "text/plain": [
       "     fast_h  slow_h        score\n",
       "106     5.0    16.0  1029.408577\n",
       "247    20.0    23.0  1016.950456\n",
       "92      5.0    15.0  1015.066947\n",
       "79      5.0    14.0  1012.285109\n",
       "268    19.0    24.0  1001.653481"
      ]
     },
     "execution_count": 10,
     "metadata": {},
     "output_type": "execute_result"
    }
   ],
   "source": [
    "df = simple_grid_search(btc_df[\"open\"].values, params=(1, 4, 25), \n",
    "                        f=MovingAverage().ma_cross_strategy, family=\"sma\")\n",
    "df.sort_values(by=['score'], inplace=True, ascending=False)\n",
    "df.head()"
   ]
  },
  {
   "cell_type": "code",
   "execution_count": 11,
   "metadata": {
    "collapsed": false
   },
   "outputs": [
    {
     "data": {
      "text/html": [
       "<div>\n",
       "<style scoped>\n",
       "    .dataframe tbody tr th:only-of-type {\n",
       "        vertical-align: middle;\n",
       "    }\n",
       "\n",
       "    .dataframe tbody tr th {\n",
       "        vertical-align: top;\n",
       "    }\n",
       "\n",
       "    .dataframe thead th {\n",
       "        text-align: right;\n",
       "    }\n",
       "</style>\n",
       "<table border=\"1\" class=\"dataframe\">\n",
       "  <thead>\n",
       "    <tr style=\"text-align: right;\">\n",
       "      <th></th>\n",
       "      <th>fast_h</th>\n",
       "      <th>slow_h</th>\n",
       "      <th>score</th>\n",
       "    </tr>\n",
       "  </thead>\n",
       "  <tbody>\n",
       "    <tr>\n",
       "      <th>68</th>\n",
       "      <td>6.0</td>\n",
       "      <td>13.0</td>\n",
       "      <td>852.897366</td>\n",
       "    </tr>\n",
       "    <tr>\n",
       "      <th>58</th>\n",
       "      <td>7.0</td>\n",
       "      <td>12.0</td>\n",
       "      <td>852.797154</td>\n",
       "    </tr>\n",
       "    <tr>\n",
       "      <th>65</th>\n",
       "      <td>3.0</td>\n",
       "      <td>13.0</td>\n",
       "      <td>849.524127</td>\n",
       "    </tr>\n",
       "    <tr>\n",
       "      <th>41</th>\n",
       "      <td>9.0</td>\n",
       "      <td>10.0</td>\n",
       "      <td>848.825776</td>\n",
       "    </tr>\n",
       "    <tr>\n",
       "      <th>92</th>\n",
       "      <td>5.0</td>\n",
       "      <td>15.0</td>\n",
       "      <td>848.800305</td>\n",
       "    </tr>\n",
       "  </tbody>\n",
       "</table>\n",
       "</div>"
      ],
      "text/plain": [
       "    fast_h  slow_h       score\n",
       "68     6.0    13.0  852.897366\n",
       "58     7.0    12.0  852.797154\n",
       "65     3.0    13.0  849.524127\n",
       "41     9.0    10.0  848.825776\n",
       "92     5.0    15.0  848.800305"
      ]
     },
     "execution_count": 11,
     "metadata": {},
     "output_type": "execute_result"
    }
   ],
   "source": [
    "df = simple_grid_search(btc_df[\"open\"].values, params=(1, 4, 25), \n",
    "                        f=MovingAverage().ma_cross_strategy, family=\"ema\")\n",
    "df.sort_values(by=['score'], inplace=True, ascending=False)\n",
    "df.head()"
   ]
  }
 ],
 "metadata": {
  "kernelspec": {
   "display_name": "Python 3",
   "language": "python",
   "name": "python3"
  },
  "language_info": {
   "codemirror_mode": {
    "name": "ipython",
    "version": 3
   },
   "file_extension": ".py",
   "mimetype": "text/x-python",
   "name": "python",
   "nbconvert_exporter": "python",
   "pygments_lexer": "ipython3",
   "version": "3.6.3"
  }
 },
 "nbformat": 4,
 "nbformat_minor": 2
}
