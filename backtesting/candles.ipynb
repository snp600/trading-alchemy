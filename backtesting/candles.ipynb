{
 "cells": [
  {
   "cell_type": "code",
   "execution_count": 17,
   "metadata": {
    "collapsed": false
   },
   "outputs": [
    {
     "name": "stdout",
     "output_type": "stream",
     "text": [
      "Populating the interactive namespace from numpy and matplotlib\n"
     ]
    }
   ],
   "source": [
    "%pylab inline\n",
    "import os\n",
    "import pandas as pd\n",
    "import matplotlib.pyplot as plt\n",
    "import matplotlib.patches as patches\n",
    "import matplotlib"
   ]
  },
  {
   "cell_type": "code",
   "execution_count": 19,
   "metadata": {
    "collapsed": false
   },
   "outputs": [],
   "source": [
    "PATH_TO_DATA = os.getcwd()\n",
    "PATH_TO_DATA = PATH_TO_DATA[:-PATH_TO_DATA[::-1].find(\"/\")]\n",
    "#PATH_TO_DATA += \"data/6-months/\"\n",
    "PATH_TO_DATA += \"data/2019-2months-1d/\"\n",
    "btc_df = pd.read_csv(PATH_TO_DATA + \"Binance_BTCUSDT_1d_1 Jan, 2019-1 Mar, 2019.csv\", sep='\\t')"
   ]
  },
  {
   "cell_type": "code",
   "execution_count": 20,
   "metadata": {
    "collapsed": true
   },
   "outputs": [],
   "source": [
    "def candles_view(open, high, low, close, volume, hours):\n",
    "    fig = plt.figure()\n",
    "    ax = fig.add_subplot(111)\n",
    "    k = 24/hours\n",
    "\n",
    "    r_width = 0.8 / k\n",
    "    periods = range(len(open))\n",
    "    for timestamp in periods:\n",
    "        r_height = abs(open[timestamp] - close[timestamp]) + 0.1\n",
    "        r_x = timestamp/k - r_width/2.0\n",
    "        r_y = min(open[timestamp], close[timestamp])\n",
    "        if (open[timestamp] > close[timestamp]):\n",
    "            ax.add_patch(patches.Rectangle((r_x, r_y), r_width, r_height, facecolor='r'))\n",
    "            plt.plot([timestamp/k, timestamp/k], [low[timestamp], high[timestamp]], 'r')\n",
    "        else:\n",
    "            ax.add_patch(patches.Rectangle((r_x, r_y), r_width, r_height, facecolor='g'))\n",
    "            plt.plot([timestamp/k, timestamp/k], [low[timestamp], high[timestamp]], 'g')\n",
    "\n",
    "    #mng = plt.get_current_fig_manager()\n",
    "    #mng.resize(*mng.window.maxsize())\n",
    "    plt.show()"
   ]
  },
  {
   "cell_type": "code",
   "execution_count": 21,
   "metadata": {
    "collapsed": false,
    "scrolled": false
   },
   "outputs": [
    {
     "data": {
      "text/plain": [
       "<Figure size 936x576 with 0 Axes>"
      ]
     },
     "metadata": {},
     "output_type": "display_data"
    },
    {
     "data": {
      "image/png": "[encoded data removed]",
      "text/plain": [
       "<Figure size 936x576 with 1 Axes>"
      ]
     },
     "metadata": {
      "needs_background": "light"
     },
     "output_type": "display_data"
    }
   ],
   "source": [
    "#%matplotlib qt\n",
    "plt.figure(figsize(13,8))\n",
    "candles_view(btc_df[\"open\"].values, \n",
    "             btc_df[\"high\"].values, \n",
    "             btc_df[\"low\"].values, \n",
    "             btc_df[\"close\"].values, \n",
    "             btc_df[\"volume\"].values, 4)"
   ]
  },
  {
   "cell_type": "code",
   "execution_count": 25,
   "metadata": {
    "collapsed": false
   },
   "outputs": [
    {
     "data": {
      "text/html": [
       "<div>\n",
       "<style scoped>\n",
       "    .dataframe tbody tr th:only-of-type {\n",
       "        vertical-align: middle;\n",
       "    }\n",
       "\n",
       "    .dataframe tbody tr th {\n",
       "        vertical-align: top;\n",
       "    }\n",
       "\n",
       "    .dataframe thead th {\n",
       "        text-align: right;\n",
       "    }\n",
       "</style>\n",
       "<table border=\"1\" class=\"dataframe\">\n",
       "  <thead>\n",
       "    <tr style=\"text-align: right;\">\n",
       "      <th></th>\n",
       "      <th>open time</th>\n",
       "      <th>open</th>\n",
       "      <th>high</th>\n",
       "      <th>low</th>\n",
       "      <th>close</th>\n",
       "      <th>volume</th>\n",
       "      <th>number of trades</th>\n",
       "    </tr>\n",
       "  </thead>\n",
       "  <tbody>\n",
       "    <tr>\n",
       "      <th>0</th>\n",
       "      <td>2019-01-01</td>\n",
       "      <td>3701.23</td>\n",
       "      <td>3810.16</td>\n",
       "      <td>3642.00</td>\n",
       "      <td>3797.14</td>\n",
       "      <td>23741.7</td>\n",
       "      <td>154227</td>\n",
       "    </tr>\n",
       "    <tr>\n",
       "      <th>1</th>\n",
       "      <td>2019-01-02</td>\n",
       "      <td>3796.45</td>\n",
       "      <td>3882.14</td>\n",
       "      <td>3750.45</td>\n",
       "      <td>3858.56</td>\n",
       "      <td>35156.5</td>\n",
       "      <td>218538</td>\n",
       "    </tr>\n",
       "    <tr>\n",
       "      <th>2</th>\n",
       "      <td>2019-01-03</td>\n",
       "      <td>3857.57</td>\n",
       "      <td>3862.74</td>\n",
       "      <td>3730.00</td>\n",
       "      <td>3766.78</td>\n",
       "      <td>29406.9</td>\n",
       "      <td>199812</td>\n",
       "    </tr>\n",
       "    <tr>\n",
       "      <th>3</th>\n",
       "      <td>2019-01-04</td>\n",
       "      <td>3767.20</td>\n",
       "      <td>3823.64</td>\n",
       "      <td>3703.57</td>\n",
       "      <td>3792.01</td>\n",
       "      <td>29519.6</td>\n",
       "      <td>192232</td>\n",
       "    </tr>\n",
       "    <tr>\n",
       "      <th>4</th>\n",
       "      <td>2019-01-05</td>\n",
       "      <td>3790.09</td>\n",
       "      <td>3840.99</td>\n",
       "      <td>3751.00</td>\n",
       "      <td>3770.96</td>\n",
       "      <td>30490.7</td>\n",
       "      <td>203673</td>\n",
       "    </tr>\n",
       "  </tbody>\n",
       "</table>\n",
       "</div>"
      ],
      "text/plain": [
       "    open time     open     high      low    close   volume  number of trades\n",
       "0  2019-01-01  3701.23  3810.16  3642.00  3797.14  23741.7            154227\n",
       "1  2019-01-02  3796.45  3882.14  3750.45  3858.56  35156.5            218538\n",
       "2  2019-01-03  3857.57  3862.74  3730.00  3766.78  29406.9            199812\n",
       "3  2019-01-04  3767.20  3823.64  3703.57  3792.01  29519.6            192232\n",
       "4  2019-01-05  3790.09  3840.99  3751.00  3770.96  30490.7            203673"
      ]
     },
     "execution_count": 25,
     "metadata": {},
     "output_type": "execute_result"
    }
   ],
   "source": [
    "btc_df.head()"
   ]
  },
  {
   "cell_type": "code",
   "execution_count": 23,
   "metadata": {
    "collapsed": false
   },
   "outputs": [
    {
     "name": "stderr",
     "output_type": "stream",
     "text": [
      "/home/alex/.local/lib/python3.6/site-packages/IPython/core/display.py:689: UserWarning:\n",
      "\n",
      "Consider using IPython.display.IFrame instead\n",
      "\n"
     ]
    },
    {
     "data": {
      "text/html": [
       "<iframe id=\"igraph\" scrolling=\"no\" style=\"border:none;\" seamless=\"seamless\" src=\"https://plot.ly/~henry_avanta/10.embed\" height=\"525px\" width=\"100%\"></iframe>"
      ],
      "text/plain": [
       "<plotly.tools.PlotlyDisplay object>"
      ]
     },
     "execution_count": 23,
     "metadata": {},
     "output_type": "execute_result"
    }
   ],
   "source": [
    "import plotly.plotly as py\n",
    "import plotly.graph_objs as go\n",
    "\n",
    "import pandas as pd\n",
    "from datetime import datetime\n",
    "\n",
    "df = pd.read_csv(PATH_TO_DATA + \"Binance_BTCUSDT_1d_1 Jan, 2019-1 Mar, 2019.csv\", sep='\\t')\n",
    "\n",
    "trace = go.Candlestick(x=df['open_time'],\n",
    "                open=df['open'],\n",
    "                high=df['high'],\n",
    "                low=df['AAPL.Low'],\n",
    "                close=df['AAPL.Close'])\n",
    "data = [trace]\n",
    "py.iplot(data, filename='simple_candlestick')"
   ]
  }
 ],
 "metadata": {
  "kernelspec": {
   "display_name": "Python 3",
   "language": "python",
   "name": "python3"
  },
  "language_info": {
   "codemirror_mode": {
    "name": "ipython",
    "version": 3
   },
   "file_extension": ".py",
   "mimetype": "text/x-python",
   "name": "python",
   "nbconvert_exporter": "python",
   "pygments_lexer": "ipython3",
   "version": "3.6.3"
  }
 },
 "nbformat": 4,
 "nbformat_minor": 2
}
