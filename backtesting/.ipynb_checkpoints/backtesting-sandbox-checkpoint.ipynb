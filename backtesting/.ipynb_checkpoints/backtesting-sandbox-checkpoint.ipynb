{
 "cells": [
  {
   "cell_type": "code",
   "execution_count": 1,
   "metadata": {
    "collapsed": false
   },
   "outputs": [
    {
     "name": "stdout",
     "output_type": "stream",
     "text": [
      "Populating the interactive namespace from numpy and matplotlib\n"
     ]
    }
   ],
   "source": [
    "%pylab inline\n",
    "import matplotlib.pyplot as plt\n",
    "import pandas as pd\n",
    "import os\n",
    "\n",
    "PATH_TO_DATA = os.getcwd()\n",
    "PATH_TO_DATA = PATH_TO_DATA[:-PATH_TO_DATA[::-1].find(\"/\")]\n",
    "PATH_TO_DATA += \"data/6-months/\""
   ]
  },
  {
   "cell_type": "code",
   "execution_count": 2,
   "metadata": {
    "collapsed": false
   },
   "outputs": [
    {
     "data": {
      "text/plain": [
       "(1086, 7)"
      ]
     },
     "execution_count": 2,
     "metadata": {},
     "output_type": "execute_result"
    }
   ],
   "source": [
    "btc_df = pd.read_csv(PATH_TO_DATA + \"Binance_BTCUSDT_4h_1 Sep, 2018-1 Mar, 2019.csv\", sep='\\t')\n",
    "btc_df.shape"
   ]
  },
  {
   "cell_type": "code",
   "execution_count": 3,
   "metadata": {
    "collapsed": false
   },
   "outputs": [],
   "source": [
    "START_BALANCE = 1000\n",
    "fee = 0.1 #percents"
   ]
  },
  {
   "cell_type": "markdown",
   "metadata": {},
   "source": [
    "### Simple SMA crossing strategy"
   ]
  },
  {
   "cell_type": "code",
   "execution_count": 4,
   "metadata": {
    "collapsed": false
   },
   "outputs": [],
   "source": [
    "def sma(data, window):\n",
    "    n = len(data) - window + 1\n",
    "    sma_array = np.zeros(n)\n",
    "    sma_array[0] = sum(data[:window]) / float(window)\n",
    "    for i in range(n-1):\n",
    "        sma_array[i+1] = sma_array[i] + (data[i+window] - data[i])/float(window)\n",
    "    return sma_array"
   ]
  },
  {
   "cell_type": "code",
   "execution_count": 5,
   "metadata": {
    "collapsed": false,
    "scrolled": true
   },
   "outputs": [],
   "source": [
    "def sma_cross_strategy(open_prices, fast_h, slow_h):\n",
    "    sma_fast = sma(open_prices, fast_h)\n",
    "    sma_fast = sma_fast[slow_h-fast_h:]\n",
    "    sma_slow = sma(open_prices, slow_h)\n",
    "    open_prices = open_prices[slow_h-1:]\n",
    "\n",
    "    balance = np.ones(len(open_prices))\n",
    "    balance[0] = START_BALANCE\n",
    "    hold_btc  = 0\n",
    "\n",
    "    for i in range(1, len(open_prices)):\n",
    "        #waiting to buy btc\n",
    "        if (sma_fast[i] > sma_slow[i] and sma_fast[i-1] < sma_slow[i-1]):\n",
    "            hold_btc = balance[i-1] / open_prices[i] * (1.0 - fee/100.0)\n",
    "            balance[i] = balance[i-1]\n",
    "            offset = i\n",
    "            break\n",
    "        balance[i] = balance[i-1]\n",
    "\n",
    "    for i in range(offset, len(open_prices)):  \n",
    "        if (sma_fast[i] > sma_slow[i] and sma_fast[i-1] < sma_slow[i-1]): #buy btc\n",
    "            hold_btc = balance[i-1] / open_prices[i] * (1.0 - fee/100.0)\n",
    "            balance[i] = balance[i-1]\n",
    "        elif (sma_fast[i] < sma_slow[i] and sma_fast[i-1] > sma_slow[i-1]): #sell btc\n",
    "            balance[i] = hold_btc * open_prices[i] * (1.0 - fee/100.0)\n",
    "            hold_btc = 0\n",
    "        elif hold_btc != 0:\n",
    "            balance[i] = hold_btc * open_prices[i] * (1.0 - fee/100.0)\n",
    "        else:\n",
    "            balance[i] = balance[i-1]\n",
    "    return balance"
   ]
  },
  {
   "cell_type": "code",
   "execution_count": 6,
   "metadata": {
    "collapsed": false
   },
   "outputs": [
    {
     "data": {
      "text/plain": [
       "[<matplotlib.lines.Line2D at 0x7f4b8ab42630>]"
      ]
     },
     "execution_count": 6,
     "metadata": {},
     "output_type": "execute_result"
    },
    {
     "data": {
      "image/png": "[encoded data removed]",
      "text/plain": [
       "<Figure size 432x288 with 1 Axes>"
      ]
     },
     "metadata": {
      "needs_background": "light"
     },
     "output_type": "display_data"
    }
   ],
   "source": [
    "balance = sma_cross_strategy(btc_df[\"open\"].values, 13, 25)\n",
    "plt.plot(range(len(balance)), balance)"
   ]
  },
  {
   "cell_type": "markdown",
   "metadata": {},
   "source": [
    "### EMA"
   ]
  },
  {
   "cell_type": "code",
   "execution_count": 7,
   "metadata": {
    "collapsed": false
   },
   "outputs": [],
   "source": [
    "def ema(data, window):\n",
    "    n = len(data)\n",
    "    alpha = 2.0 / (window + 1)\n",
    "    ema_array = np.zeros(n)\n",
    "    ema_array[0] = data[0]\n",
    "    for i in range(1, n):\n",
    "        ema_array[i] = alpha * data[i] + (1.0 - alpha) * ema_array[i-1]\n",
    "    return ema_array"
   ]
  },
  {
   "cell_type": "code",
   "execution_count": 8,
   "metadata": {
    "collapsed": false
   },
   "outputs": [],
   "source": [
    "def ema_cross_strategy(open_prices, fast_h, slow_h):\n",
    "    ema_fast = ema(open_prices, fast_h)\n",
    "    ema_slow = ema(open_prices, slow_h)\n",
    "    balance = np.ones(len(open_prices))\n",
    "    balance[0] = START_BALANCE\n",
    "    hold_btc  = 0\n",
    "\n",
    "    for i in range(1, len(open_prices)):\n",
    "        #waiting to buy btc\n",
    "        if (ema_fast[i] > ema_slow[i] and ema_fast[i-1] < ema_slow[i-1]):\n",
    "            hold_btc = balance[i-1] / open_prices[i] * (1.0 - fee/100.0)\n",
    "            balance[i] = balance[i-1]\n",
    "            offset = i\n",
    "            break\n",
    "        balance[i] = balance[i-1]\n",
    "\n",
    "    for i in range(offset, len(open_prices)):  \n",
    "        if (ema_fast[i] > ema_slow[i] and ema_fast[i-1] < ema_slow[i-1]): #buy btc\n",
    "            hold_btc = balance[i-1] / open_prices[i] * (1.0 - fee/100.0)\n",
    "            balance[i] = balance[i-1]\n",
    "        elif (ema_fast[i] < ema_slow[i] and ema_fast[i-1] > ema_slow[i-1]): #sell btc\n",
    "            balance[i] = hold_btc * open_prices[i] * (1.0 - fee/100.0)\n",
    "            hold_btc = 0\n",
    "        elif hold_btc != 0:\n",
    "            balance[i] = hold_btc * open_prices[i] * (1.0 - fee/100.0)\n",
    "        else:\n",
    "            balance[i] = balance[i-1]\n",
    "            \n",
    "    return balance"
   ]
  },
  {
   "cell_type": "code",
   "execution_count": 9,
   "metadata": {
    "collapsed": false
   },
   "outputs": [],
   "source": [
    "def simple_grid_search(data, params, f, metrics='last'):\n",
    "    scores_df = pd.DataFrame(columns=[\"fast_h\", \"slow_h\", \"score\"])\n",
    "    start_fast = params[0]\n",
    "    start_slow = params[1]\n",
    "    end_slow   = params[2]\n",
    "    i = 0\n",
    "    if (metrics == 'last'):\n",
    "        for slow in range(start_slow, end_slow):\n",
    "            for fast in range(start_fast, slow):\n",
    "                balance = f(data, fast, slow)\n",
    "                score = balance[-1]\n",
    "                scores_df.loc[i] = [fast, slow, score]\n",
    "                i += 1\n",
    "            \n",
    "    return scores_df"
   ]
  },
  {
   "cell_type": "code",
   "execution_count": 10,
   "metadata": {
    "collapsed": false
   },
   "outputs": [
    {
     "data": {
      "text/html": [
       "<div>\n",
       "<style scoped>\n",
       "    .dataframe tbody tr th:only-of-type {\n",
       "        vertical-align: middle;\n",
       "    }\n",
       "\n",
       "    .dataframe tbody tr th {\n",
       "        vertical-align: top;\n",
       "    }\n",
       "\n",
       "    .dataframe thead th {\n",
       "        text-align: right;\n",
       "    }\n",
       "</style>\n",
       "<table border=\"1\" class=\"dataframe\">\n",
       "  <thead>\n",
       "    <tr style=\"text-align: right;\">\n",
       "      <th></th>\n",
       "      <th>fast_h</th>\n",
       "      <th>slow_h</th>\n",
       "      <th>score</th>\n",
       "    </tr>\n",
       "  </thead>\n",
       "  <tbody>\n",
       "    <tr>\n",
       "      <th>68</th>\n",
       "      <td>6.0</td>\n",
       "      <td>13.0</td>\n",
       "      <td>852.897366</td>\n",
       "    </tr>\n",
       "    <tr>\n",
       "      <th>58</th>\n",
       "      <td>7.0</td>\n",
       "      <td>12.0</td>\n",
       "      <td>852.797154</td>\n",
       "    </tr>\n",
       "    <tr>\n",
       "      <th>65</th>\n",
       "      <td>3.0</td>\n",
       "      <td>13.0</td>\n",
       "      <td>849.524127</td>\n",
       "    </tr>\n",
       "    <tr>\n",
       "      <th>41</th>\n",
       "      <td>9.0</td>\n",
       "      <td>10.0</td>\n",
       "      <td>848.825776</td>\n",
       "    </tr>\n",
       "    <tr>\n",
       "      <th>92</th>\n",
       "      <td>5.0</td>\n",
       "      <td>15.0</td>\n",
       "      <td>848.800305</td>\n",
       "    </tr>\n",
       "  </tbody>\n",
       "</table>\n",
       "</div>"
      ],
      "text/plain": [
       "    fast_h  slow_h       score\n",
       "68     6.0    13.0  852.897366\n",
       "58     7.0    12.0  852.797154\n",
       "65     3.0    13.0  849.524127\n",
       "41     9.0    10.0  848.825776\n",
       "92     5.0    15.0  848.800305"
      ]
     },
     "execution_count": 10,
     "metadata": {},
     "output_type": "execute_result"
    }
   ],
   "source": [
    "df = simple_grid_search(btc_df[\"open\"].values, params=(1, 4, 25), f=ema_cross_strategy)\n",
    "df.sort_values(by=['score'], inplace=True, ascending=False)\n",
    "df.head()"
   ]
  },
  {
   "cell_type": "code",
   "execution_count": 11,
   "metadata": {
    "collapsed": false
   },
   "outputs": [
    {
     "data": {
      "text/html": [
       "<div>\n",
       "<style scoped>\n",
       "    .dataframe tbody tr th:only-of-type {\n",
       "        vertical-align: middle;\n",
       "    }\n",
       "\n",
       "    .dataframe tbody tr th {\n",
       "        vertical-align: top;\n",
       "    }\n",
       "\n",
       "    .dataframe thead th {\n",
       "        text-align: right;\n",
       "    }\n",
       "</style>\n",
       "<table border=\"1\" class=\"dataframe\">\n",
       "  <thead>\n",
       "    <tr style=\"text-align: right;\">\n",
       "      <th></th>\n",
       "      <th>fast_h</th>\n",
       "      <th>slow_h</th>\n",
       "      <th>score</th>\n",
       "    </tr>\n",
       "  </thead>\n",
       "  <tbody>\n",
       "    <tr>\n",
       "      <th>106</th>\n",
       "      <td>5.0</td>\n",
       "      <td>16.0</td>\n",
       "      <td>1029.408577</td>\n",
       "    </tr>\n",
       "    <tr>\n",
       "      <th>247</th>\n",
       "      <td>20.0</td>\n",
       "      <td>23.0</td>\n",
       "      <td>1016.950456</td>\n",
       "    </tr>\n",
       "    <tr>\n",
       "      <th>92</th>\n",
       "      <td>5.0</td>\n",
       "      <td>15.0</td>\n",
       "      <td>1015.066947</td>\n",
       "    </tr>\n",
       "    <tr>\n",
       "      <th>79</th>\n",
       "      <td>5.0</td>\n",
       "      <td>14.0</td>\n",
       "      <td>1012.285109</td>\n",
       "    </tr>\n",
       "    <tr>\n",
       "      <th>268</th>\n",
       "      <td>19.0</td>\n",
       "      <td>24.0</td>\n",
       "      <td>1001.653481</td>\n",
       "    </tr>\n",
       "  </tbody>\n",
       "</table>\n",
       "</div>"
      ],
      "text/plain": [
       "     fast_h  slow_h        score\n",
       "106     5.0    16.0  1029.408577\n",
       "247    20.0    23.0  1016.950456\n",
       "92      5.0    15.0  1015.066947\n",
       "79      5.0    14.0  1012.285109\n",
       "268    19.0    24.0  1001.653481"
      ]
     },
     "execution_count": 11,
     "metadata": {},
     "output_type": "execute_result"
    }
   ],
   "source": [
    "df = simple_grid_search(btc_df[\"open\"].values, params=(1, 4, 25), f=sma_cross_strategy)\n",
    "df.sort_values(by=['score'], inplace=True, ascending=False)\n",
    "df.head()"
   ]
  },
  {
   "cell_type": "code",
   "execution_count": 20,
   "metadata": {
    "collapsed": false
   },
   "outputs": [
    {
     "ename": "ImportError",
     "evalue": "cannot import name 'Indicators'",
     "output_type": "error",
     "traceback": [
      "\u001b[0;31m---------------------------------------------------------------------------\u001b[0m",
      "\u001b[0;31mImportError\u001b[0m                               Traceback (most recent call last)",
      "\u001b[0;32m<ipython-input-20-dab3771a71f9>\u001b[0m in \u001b[0;36m<module>\u001b[0;34m\u001b[0m\n\u001b[0;32m----> 1\u001b[0;31m \u001b[0;32mfrom\u001b[0m \u001b[0mtools\u001b[0m \u001b[0;32mimport\u001b[0m \u001b[0mIndicators\u001b[0m\u001b[0;34m\u001b[0m\u001b[0m\n\u001b[0m\u001b[1;32m      2\u001b[0m \u001b[0;34m\u001b[0m\u001b[0m\n\u001b[1;32m      3\u001b[0m \u001b[0mx\u001b[0m \u001b[0;34m=\u001b[0m \u001b[0mIndicators\u001b[0m\u001b[0;34m(\u001b[0m\u001b[0;34m)\u001b[0m\u001b[0;34m\u001b[0m\u001b[0m\n\u001b[1;32m      4\u001b[0m \u001b[0;34m\u001b[0m\u001b[0m\n\u001b[1;32m      5\u001b[0m \u001b[0memas\u001b[0m \u001b[0;34m=\u001b[0m \u001b[0mx\u001b[0m\u001b[0;34m.\u001b[0m\u001b[0mema\u001b[0m\u001b[0;34m(\u001b[0m\u001b[0mbtc_df\u001b[0m\u001b[0;34m[\u001b[0m\u001b[0;34m\"open\"\u001b[0m\u001b[0;34m]\u001b[0m\u001b[0;34m.\u001b[0m\u001b[0mvalues\u001b[0m\u001b[0;34m,\u001b[0m \u001b[0;36m13\u001b[0m\u001b[0;34m)\u001b[0m\u001b[0;34m\u001b[0m\u001b[0m\n",
      "\u001b[0;31mImportError\u001b[0m: cannot import name 'Indicators'"
     ]
    }
   ],
   "source": [
    "from tools import Indicators\n",
    "\n",
    "x = Indicators()\n",
    "\n",
    "emas = x.ema(btc_df[\"open\"].values, 13)"
   ]
  }
 ],
 "metadata": {
  "kernelspec": {
   "display_name": "Python 3",
   "language": "python",
   "name": "python3"
  },
  "language_info": {
   "codemirror_mode": {
    "name": "ipython",
    "version": 3
   },
   "file_extension": ".py",
   "mimetype": "text/x-python",
   "name": "python",
   "nbconvert_exporter": "python",
   "pygments_lexer": "ipython3",
   "version": "3.6.3"
  }
 },
 "nbformat": 4,
 "nbformat_minor": 2
}
