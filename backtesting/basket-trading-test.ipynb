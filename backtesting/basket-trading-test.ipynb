{
 "cells": [
  {
   "cell_type": "code",
   "execution_count": 1,
   "metadata": {
    "collapsed": false
   },
   "outputs": [
    {
     "name": "stdout",
     "output_type": "stream",
     "text": [
      "Populating the interactive namespace from numpy and matplotlib\n"
     ]
    }
   ],
   "source": [
    "%pylab inline\n",
    "import matplotlib.pyplot as plt\n",
    "import pandas as pd\n",
    "import os\n",
    "import talib"
   ]
  },
  {
   "cell_type": "code",
   "execution_count": 2,
   "metadata": {
    "collapsed": true
   },
   "outputs": [],
   "source": [
    "def crop(df, start='2016-03-01 10:00:00', end='2016-09-01 10:00:00'):\n",
    "    df = df[df[df.dt == start].index[0]:df[df.dt == end].index[0]]\n",
    "    df.index = pd.RangeIndex(df.shape[0])\n",
    "    return df"
   ]
  },
  {
   "cell_type": "code",
   "execution_count": 3,
   "metadata": {
    "collapsed": true
   },
   "outputs": [],
   "source": [
    "PATH_TO_DATA = os.getcwd()\n",
    "PATH_TO_DATA = PATH_TO_DATA[:-PATH_TO_DATA[::-1].find(\"/\")]\n",
    "PATH_TO_DATA += \"data/shares/\"\n",
    "df_emr = crop(pd.read_csv(PATH_TO_DATA + \"EMR.csv\", sep=','))\n",
    "df_jbl = crop(pd.read_csv(PATH_TO_DATA + \"JBL.csv\", sep=','))\n",
    "df_met = crop(pd.read_csv(PATH_TO_DATA + \"MET.csv\", sep=','))\n",
    "df_see = crop(pd.read_csv(PATH_TO_DATA + \"SEE.csv\", sep=','))\n",
    "\n",
    "PATH_TO_DATA += \"semiconductors/\"\n",
    "df_mu = crop(pd.read_csv(PATH_TO_DATA + \"MU.csv\", sep=','))\n",
    "df_amat = crop(pd.read_csv(PATH_TO_DATA + \"AMAT.csv\", sep=','))\n",
    "df_amd = crop(pd.read_csv(PATH_TO_DATA + \"AMD.csv\", sep=','))\n",
    "df_intc = crop(pd.read_csv(PATH_TO_DATA + \"INTC.csv\", sep=','))\n",
    "df_klac = crop(pd.read_csv(PATH_TO_DATA + \"KLAC.csv\", sep=','))\n",
    "df_lrcx = crop(pd.read_csv(PATH_TO_DATA + \"LRCX.csv\", sep=','))\n",
    "df_mchp = crop(pd.read_csv(PATH_TO_DATA + \"MCHP.csv\", sep=','))\n",
    "df_nvda = crop(pd.read_csv(PATH_TO_DATA + \"NVDA.csv\", sep=','))\n",
    "df_ter = crop(pd.read_csv(PATH_TO_DATA + \"TER.csv\", sep=','))"
   ]
  },
  {
   "cell_type": "code",
   "execution_count": 4,
   "metadata": {
    "collapsed": false
   },
   "outputs": [],
   "source": [
    "dfs = [df_emr, df_jbl, df_met, df_see, df_mu, \n",
    "       df_amat, df_amd, df_intc, df_klac, \n",
    "       df_lrcx, df_mchp, df_nvda, df_ter]\n",
    "\n",
    "prices = []\n",
    "for df in dfs:\n",
    "    prices.append(df['open'].values)"
   ]
  },
  {
   "cell_type": "code",
   "execution_count": 5,
   "metadata": {
    "collapsed": true
   },
   "outputs": [],
   "source": [
    "class IndicatorMarks():\n",
    "    \n",
    "    \n",
    "    def __init__(self):\n",
    "        pass\n",
    "        \n",
    "        \n",
    "    def macd_marks(self, MACD):\n",
    "        periods = len(MACD)\n",
    "        temp = ['hold'] * periods\n",
    "        for i in range(1, periods):\n",
    "            if (MACD[i] > 0 and MACD[i-1] < 0):\n",
    "                temp[i] = 'buy'\n",
    "            elif (MACD[i] < 0 and MACD[i-1] > 0):\n",
    "                temp[i] = 'sell'\n",
    "        return temp\n",
    "    \n",
    "    \n",
    "    def rsi_marks(self, rsi, buy_threshold=30, sell_threshold=70):\n",
    "        periods = len(rsi)\n",
    "        temp = ['hold'] * periods\n",
    "        for i in range(1, periods):\n",
    "            if (rsi[i] < buy_threshold):\n",
    "                temp[i] = 'buy'\n",
    "            elif (rsi[i] > sell_threshold):\n",
    "                temp[i] = 'sell'\n",
    "        return temp"
   ]
  },
  {
   "cell_type": "code",
   "execution_count": 6,
   "metadata": {
    "collapsed": true
   },
   "outputs": [],
   "source": [
    "class SingleInstrumentBacktest:\n",
    "    \n",
    "    df = None #dataframe\n",
    "    price = None #open or close\n",
    "    periods = None #number of periods\n",
    "    balance = None #balance on current period of time\n",
    "    fee = None #taker/maker fee\n",
    "    stoploss = None\n",
    "    takeprofit = None\n",
    "    hold = 0 #current balance of an instrument\n",
    "    i = 0 #current period index\n",
    "    balance_on_buy = None #balance when bought to know current loss/profit\n",
    "    wait = 0 #no action for \"10\" (e.g.) periods after stoploss/takeprofit\n",
    "    \n",
    "    \n",
    "    def __init__(self, df, initial_balance=100, fee=0.1, stoploss=0.03, takeprofit=0.05):\n",
    "        self.df = df.copy()\n",
    "        self.price = self.df['open'].values\n",
    "        self.periods = df.shape[0]\n",
    "        self.df.index = pd.RangeIndex(self.periods) #refresh index\n",
    "        self.balance = np.zeros(self.periods)\n",
    "        self.balance[0] = initial_balance\n",
    "        self.fee = fee\n",
    "        self.stoploss = stoploss\n",
    "        self.takeprofit = takeprofit\n",
    "        self.add_indicator_marks()\n",
    "        \n",
    "        \n",
    "    def add_indicator_marks(self):\n",
    "        im = IndicatorMarks()\n",
    "        self.df['macd'] = talib.EMA(self.price, timeperiod=13) - talib.EMA(self.price, timeperiod=26)\n",
    "        self.df['macd_mark'] = im.macd_marks(self.df['macd'].values)\n",
    "        self.df['rsi_14'] = talib.RSI(self.price, timeperiod=14)\n",
    "        self.df['rsi_14_mark'] = im.rsi_marks(self.df['rsi_14'].values, 30, 70)\n",
    "    \n",
    "    \n",
    "    def buy_condition(self):\n",
    "        #if (self.df['rsi_14_mark'][self.i] == 'buy' and self.wait == 0):\n",
    "        if (self.df['custom_signal'][self.i] == 'buy' and self.wait == 0):\n",
    "            return True\n",
    "        if (self.wait > 0):\n",
    "            self.wait -= 1\n",
    "        return False\n",
    "    \n",
    "    \n",
    "    def sell_condition(self):\n",
    "        #if (self.df['rsi_14_mark'][self.i] == 'sell'):\n",
    "        if (self.df['custom_signal'][self.i] == 'sell'):\n",
    "            return True\n",
    "        #stoploss/takeprofit\n",
    "        current_trade_loss = 1.0 - self.balance[self.i] / self.balance_on_buy\n",
    "        if (current_trade_loss >= self.stoploss or -1.0 * current_trade_loss >= self.takeprofit):\n",
    "            self.wait = 8\n",
    "            return True\n",
    "        return False\n",
    "    \n",
    "    \n",
    "    def step(self):\n",
    "        if self.hold == 0:\n",
    "            if (self.buy_condition() == True):\n",
    "                self.hold = self.balance[self.i-1] / self.price[self.i] * (1.0 - self.fee/100.0)\n",
    "                self.balance_on_buy = self.balance[self.i-1]\n",
    "            self.balance[self.i] = self.balance[self.i-1]\n",
    "        else:\n",
    "            self.balance[self.i] = self.hold * self.price[self.i] * (1.0 - self.fee/100.0)\n",
    "            if (self.sell_condition() == True):\n",
    "                self.hold = 0\n",
    "        \n",
    "        \n",
    "    def full_backtest(self, print_metrics=True, show_balance=True):\n",
    "        for _ in range(1, self.periods):\n",
    "            self.i += 1\n",
    "            self.step()\n",
    "        if print_metrics == True:\n",
    "            print(self.get_metrics())\n",
    "        if show_balance == True:\n",
    "            self.show_balance()\n",
    "        return self.balance\n",
    "    \n",
    "    \n",
    "    def show_balance(self):\n",
    "        plt.plot(range(self.periods), self.balance)\n",
    "        \n",
    "        \n",
    "    def get_metrics(self, digits=3):\n",
    "        risk_free_return = 0\n",
    "        self.df['return'] = self.balance / self.balance[0]\n",
    "        max_drawdown = 1.0 - min(self.df['return'].values)\n",
    "        self.df['return'] = self.df['return'].pct_change(1)\n",
    "        sharpe = (self.df['return'].mean() - risk_free_return) / self.df['return'].std()\n",
    "        sharpe *= self.periods ** 0.5 #annualize\n",
    "        #sharpe = np.mean(ret) / np.std(ret)\n",
    "        return {\"profit factor\" : round(self.balance[self.periods-1]/self.balance[0], digits), \n",
    "                \"sharpe ratio\" : round(sharpe, digits),\n",
    "                \"max drawdown\" : str(round(max_drawdown * 100, digits-2)) + \"%\"}"
   ]
  },
  {
   "cell_type": "code",
   "execution_count": 7,
   "metadata": {
    "collapsed": false
   },
   "outputs": [],
   "source": [
    "class BasketTrading():\n",
    "    \n",
    "    prices = None\n",
    "    factors = []\n",
    "    ranks = None\n",
    "    rebalance = 20\n",
    "    \n",
    "    \n",
    "    def __init__(self, prices, rebalance=20):\n",
    "        self.prices = prices\n",
    "        self.form_factors()\n",
    "        self.rebalance = rebalance\n",
    "    \n",
    "    \n",
    "    def factor(self, p):\n",
    "        return talib.RSI(p, timeperiod=14)\n",
    "    \n",
    "    \n",
    "    def form_factors(self):\n",
    "        for p in prices:\n",
    "            self.factors.append(self.factor(p))\n",
    "            \n",
    "            \n",
    "    def form_ranks(self):\n",
    "        n = len(prices)\n",
    "        m = len(prices[0])\n",
    "        self.ranks = [['hold'] * m] * n\n",
    "        self.ranks = np.array(self.ranks)\n",
    "        for i in range(14, m):\n",
    "            if (i % self.rebalance == 0):\n",
    "                temp = []\n",
    "                for j in range(n):\n",
    "                    temp.append(self.factors[j][i])\n",
    "                temp_df = pd.DataFrame(index=range(n), columns=['factors'])\n",
    "                temp_df['factors'] = temp\n",
    "                temp_df = temp_df.sort_values('factors')\n",
    "            \n",
    "                for ind in temp_df.index[:int(n/2)+1]:\n",
    "                    self.ranks[ind][i] = 'buy'\n",
    "                for ind in temp_df.index[int(n/2)+1:]:\n",
    "                    self.ranks[ind][i] = 'sell'\n",
    "        return self.ranks\n",
    "    \n",
    "    \n",
    "    def trade(self):\n",
    "        balances = []\n",
    "        for i in range(len(prices)):\n",
    "            df = pd.DataFrame(index = range(len(prices[i])), columns=['open', 'custom_signal'])\n",
    "            df['open'] = self.prices[i]\n",
    "            df['custom_signal'] = self.ranks[i]\n",
    "            sib = SingleInstrumentBacktest(df, stoploss=1000, takeprofit=1000)\n",
    "            balances.append((sib.full_backtest(show_balance=False), sib.get_metrics()))\n",
    "        return balances\n"
   ]
  },
  {
   "cell_type": "code",
   "execution_count": 8,
   "metadata": {
    "collapsed": false
   },
   "outputs": [],
   "source": [
    "bt = BasketTrading(prices)\n",
    "ranks = bt.form_ranks()"
   ]
  },
  {
   "cell_type": "code",
   "execution_count": 9,
   "metadata": {
    "collapsed": false
   },
   "outputs": [
    {
     "name": "stdout",
     "output_type": "stream",
     "text": [
      "{'profit factor': 1.089, 'sharpe ratio': 0.799, 'max drawdown': '1.9%'}\n",
      "{'profit factor': 1.02, 'sharpe ratio': 0.211, 'max drawdown': '13.9%'}\n",
      "{'profit factor': 1.274, 'sharpe ratio': 1.634, 'max drawdown': '0.2%'}\n",
      "{'profit factor': 0.996, 'sharpe ratio': 0.053, 'max drawdown': '11.1%'}\n",
      "{'profit factor': 1.18, 'sharpe ratio': 0.798, 'max drawdown': '15.2%'}\n",
      "{'profit factor': 1.008, 'sharpe ratio': 0.123, 'max drawdown': '7.9%'}\n",
      "{'profit factor': 1.573, 'sharpe ratio': 1.365, 'max drawdown': '5.4%'}\n",
      "{'profit factor': 1.111, 'sharpe ratio': 1.102, 'max drawdown': '2.3%'}\n",
      "{'profit factor': 1.02, 'sharpe ratio': 0.277, 'max drawdown': '1.9%'}\n",
      "{'profit factor': 1.08, 'sharpe ratio': 0.689, 'max drawdown': '4.7%'}\n",
      "{'profit factor': 1.31, 'sharpe ratio': 2.302, 'max drawdown': '0.2%'}\n",
      "{'profit factor': 1.178, 'sharpe ratio': 1.267, 'max drawdown': '2.6%'}\n",
      "{'profit factor': 0.976, 'sharpe ratio': -0.151, 'max drawdown': '8.4%'}\n"
     ]
    }
   ],
   "source": [
    "balances = bt.trade()"
   ]
  },
  {
   "cell_type": "code",
   "execution_count": 10,
   "metadata": {
    "collapsed": false
   },
   "outputs": [
    {
     "name": "stdout",
     "output_type": "stream",
     "text": [
      "1.1396153846153845\n"
     ]
    }
   ],
   "source": [
    "#6 months\n",
    "avg_profit_factor = 0\n",
    "for x in balances:\n",
    "    avg_profit_factor += x[1]['profit factor']\n",
    "print(avg_profit_factor / len(balances)) \n",
    "#seems to be good but benchmark \"buy and hold\" gives 1.42 so it's not"
   ]
  }
 ],
 "metadata": {
  "kernelspec": {
   "display_name": "Python 3",
   "language": "python",
   "name": "python3"
  },
  "language_info": {
   "codemirror_mode": {
    "name": "ipython",
    "version": 3
   },
   "file_extension": ".py",
   "mimetype": "text/x-python",
   "name": "python",
   "nbconvert_exporter": "python",
   "pygments_lexer": "ipython3",
   "version": "3.6.3"
  }
 },
 "nbformat": 4,
 "nbformat_minor": 2
}
