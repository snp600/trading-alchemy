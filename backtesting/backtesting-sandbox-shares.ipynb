{
 "cells": [
  {
   "cell_type": "code",
   "execution_count": 1,
   "metadata": {
    "collapsed": false
   },
   "outputs": [
    {
     "name": "stdout",
     "output_type": "stream",
     "text": [
      "Populating the interactive namespace from numpy and matplotlib\n"
     ]
    }
   ],
   "source": [
    "%pylab inline\n",
    "import matplotlib.pyplot as plt\n",
    "import pandas as pd\n",
    "import os\n",
    "\n",
    "PATH_TO_DATA = os.getcwd()\n",
    "PATH_TO_DATA = PATH_TO_DATA[:-PATH_TO_DATA[::-1].find(\"/\")]\n",
    "PATH_TO_DATA += \"data/shares/\""
   ]
  },
  {
   "cell_type": "code",
   "execution_count": 9,
   "metadata": {
    "collapsed": false
   },
   "outputs": [
    {
     "data": {
      "text/plain": [
       "(52860, 6)"
      ]
     },
     "execution_count": 9,
     "metadata": {},
     "output_type": "execute_result"
    }
   ],
   "source": [
    "aapl_df = pd.read_csv(PATH_TO_DATA + \"AAPL.csv\", sep=',')\n",
    "intc_df = pd.read_csv(PATH_TO_DATA + \"INTC.csv\", sep=',')\n",
    "nvda_df = pd.read_csv(PATH_TO_DATA + \"NVDA.csv\", sep=',')\n",
    "intc_df.shape"
   ]
  },
  {
   "cell_type": "code",
   "execution_count": 70,
   "metadata": {
    "collapsed": false
   },
   "outputs": [
    {
     "data": {
      "text/html": [
       "<div>\n",
       "<style scoped>\n",
       "    .dataframe tbody tr th:only-of-type {\n",
       "        vertical-align: middle;\n",
       "    }\n",
       "\n",
       "    .dataframe tbody tr th {\n",
       "        vertical-align: top;\n",
       "    }\n",
       "\n",
       "    .dataframe thead th {\n",
       "        text-align: right;\n",
       "    }\n",
       "</style>\n",
       "<table border=\"1\" class=\"dataframe\">\n",
       "  <thead>\n",
       "    <tr style=\"text-align: right;\">\n",
       "      <th></th>\n",
       "      <th>dt</th>\n",
       "      <th>open</th>\n",
       "      <th>high</th>\n",
       "      <th>low</th>\n",
       "      <th>close</th>\n",
       "      <th>volume</th>\n",
       "    </tr>\n",
       "  </thead>\n",
       "  <tbody>\n",
       "    <tr>\n",
       "      <th>52945</th>\n",
       "      <td>2018-02-05 15:00:00</td>\n",
       "      <td>161.560</td>\n",
       "      <td>161.89</td>\n",
       "      <td>160.39</td>\n",
       "      <td>160.670</td>\n",
       "      <td>48089388</td>\n",
       "    </tr>\n",
       "    <tr>\n",
       "      <th>52946</th>\n",
       "      <td>2018-02-05 15:15:00</td>\n",
       "      <td>160.655</td>\n",
       "      <td>161.09</td>\n",
       "      <td>156.00</td>\n",
       "      <td>158.730</td>\n",
       "      <td>53420514</td>\n",
       "    </tr>\n",
       "    <tr>\n",
       "      <th>52947</th>\n",
       "      <td>2018-02-05 15:30:00</td>\n",
       "      <td>158.780</td>\n",
       "      <td>160.60</td>\n",
       "      <td>158.01</td>\n",
       "      <td>160.085</td>\n",
       "      <td>57528931</td>\n",
       "    </tr>\n",
       "    <tr>\n",
       "      <th>52948</th>\n",
       "      <td>2018-02-05 15:45:00</td>\n",
       "      <td>160.130</td>\n",
       "      <td>160.27</td>\n",
       "      <td>158.28</td>\n",
       "      <td>158.945</td>\n",
       "      <td>61055587</td>\n",
       "    </tr>\n",
       "    <tr>\n",
       "      <th>52949</th>\n",
       "      <td>2018-02-05 16:00:00</td>\n",
       "      <td>158.940</td>\n",
       "      <td>159.05</td>\n",
       "      <td>156.43</td>\n",
       "      <td>156.490</td>\n",
       "      <td>67698200</td>\n",
       "    </tr>\n",
       "  </tbody>\n",
       "</table>\n",
       "</div>"
      ],
      "text/plain": [
       "                        dt     open    high     low    close    volume\n",
       "52945  2018-02-05 15:00:00  161.560  161.89  160.39  160.670  48089388\n",
       "52946  2018-02-05 15:15:00  160.655  161.09  156.00  158.730  53420514\n",
       "52947  2018-02-05 15:30:00  158.780  160.60  158.01  160.085  57528931\n",
       "52948  2018-02-05 15:45:00  160.130  160.27  158.28  158.945  61055587\n",
       "52949  2018-02-05 16:00:00  158.940  159.05  156.43  156.490  67698200"
      ]
     },
     "execution_count": 70,
     "metadata": {},
     "output_type": "execute_result"
    }
   ],
   "source": [
    "aapl_df.tail()"
   ]
  },
  {
   "cell_type": "code",
   "execution_count": 48,
   "metadata": {
    "collapsed": false,
    "scrolled": false
   },
   "outputs": [
    {
     "data": {
      "text/plain": [
       "[<matplotlib.lines.Line2D at 0x7f21386f2748>]"
      ]
     },
     "execution_count": 48,
     "metadata": {},
     "output_type": "execute_result"
    },
    {
     "data": {
      "image/png": "[encoded data removed]",
      "text/plain": [
       "<Figure size 432x288 with 1 Axes>"
      ]
     },
     "metadata": {
      "needs_background": "light"
     },
     "output_type": "display_data"
    }
   ],
   "source": [
    "from strategies import MovingAverage\n",
    "balance = MovingAverage().ma_cross_strategy(aapl_df[\"open\"].values, 12, 26, family='sma')\n",
    "plt.plot(range(len(balance)), balance)"
   ]
  },
  {
   "cell_type": "code",
   "execution_count": 109,
   "metadata": {
    "collapsed": true
   },
   "outputs": [],
   "source": [
    "from tools import Indicators\n",
    "\n",
    "def backtest_macd(df, start_balance=1000, fee=0.1):\n",
    "    \n",
    "    price = df['close'].values\n",
    "    MACD = df['MACD']\n",
    "\n",
    "    balance = np.ones(len(price))\n",
    "    balance[0] = start_balance\n",
    "    hold  = 0\n",
    "\n",
    "    for i in range(1, len(price)):  \n",
    "        if hold == 0:\n",
    "            if (MACD[i] > 0 and MACD[i-1] < 0): #buy condition\n",
    "                hold = balance[i-1] / price[i] * (1.0 - fee/100.0)\n",
    "            balance[i] = balance[i-1]\n",
    "        else:\n",
    "            balance[i] = hold * price[i] * (1.0 - fee/100.0)\n",
    "            if (MACD[i] < 0 and MACD[i-1] > 0): #sell condition\n",
    "                hold = 0\n",
    "    return balance"
   ]
  },
  {
   "cell_type": "code",
   "execution_count": 110,
   "metadata": {
    "collapsed": false,
    "scrolled": true
   },
   "outputs": [
    {
     "data": {
      "text/plain": [
       "[<matplotlib.lines.Line2D at 0x7f2135aaf908>]"
      ]
     },
     "execution_count": 110,
     "metadata": {},
     "output_type": "execute_result"
    },
    {
     "data": {
      "image/png": "[encoded data removed]",
      "text/plain": [
       "<Figure size 432x288 with 1 Axes>"
      ]
     },
     "metadata": {
      "needs_background": "light"
     },
     "output_type": "display_data"
    }
   ],
   "source": [
    "df = nvda_df.copy()\n",
    "\n",
    "ewma = pd.Series.ewm\n",
    "df['close_26EMA'] = ewma(df[\"close\"], span=26).mean()\n",
    "df['close_12EMA'] = ewma(df[\"close\"], span=12).mean()\n",
    "\n",
    "df['MACD'] = df['close_12EMA'] - df['close_26EMA']\n",
    "\n",
    "balance = backtest_macd(df)\n",
    "plt.plot(range(len(balance)), balance)"
   ]
  },
  {
   "cell_type": "code",
   "execution_count": 111,
   "metadata": {
    "collapsed": true
   },
   "outputs": [],
   "source": [
    "def getrsi(prices, n=14):\n",
    "    deltas = np.diff(prices)\n",
    "    seed = deltas[:n+1]\n",
    "    up = seed[seed>=0].sum()/n\n",
    "    down = -seed[seed<0].sum()/n\n",
    "    rs = up/down\n",
    "    rsi = np.zeros_like(prices)\n",
    "    rsi[:n] = 100. - 100./(1.+rs)\n",
    "\n",
    "    for i in range(n, len(prices)):\n",
    "        delta = deltas[i-1]\n",
    "\n",
    "        if delta>0:\n",
    "            upval = delta\n",
    "            downval = 0.\n",
    "        else:\n",
    "            upval = 0.\n",
    "            downval = -delta\n",
    "\n",
    "        up = (up*(n-1) + upval)/n\n",
    "        down = (down*(n-1) + downval)/n\n",
    "\n",
    "        rs = up/down\n",
    "        rsi[i] = 100. - 100./(1.+rs)\n",
    "\n",
    "    return rsi"
   ]
  },
  {
   "cell_type": "code",
   "execution_count": 112,
   "metadata": {
    "collapsed": false
   },
   "outputs": [],
   "source": [
    "from tools import Indicators\n",
    "\n",
    "def backtest_rsi(df, start_balance=1000, fee=0.1):\n",
    "    \n",
    "    price = df['open'].values\n",
    "    rsi = getrsi(df['open'].values, 14)\n",
    "\n",
    "    balance = np.ones(len(price))\n",
    "    balance[0] = start_balance\n",
    "    hold  = 0\n",
    "\n",
    "    for i in range(1, len(price)):\n",
    "        if hold == 0:\n",
    "            if (rsi[i] < 40): #buy condition\n",
    "                hold = balance[i-1] / price[i] * (1.0 - fee/100.0)\n",
    "            balance[i] = balance[i-1]\n",
    "        else:\n",
    "            balance[i] = hold * price[i] * (1.0 - fee/100.0)\n",
    "            if (rsi[i] > 80): #sell condition\n",
    "                hold = 0\n",
    "        if (balance[i] < 300 and balance[i] > 10):\n",
    "            print(price[i])\n",
    "            print(price[i-1])\n",
    "            print(i)\n",
    "            break\n",
    "    return balance"
   ]
  },
  {
   "cell_type": "code",
   "execution_count": 114,
   "metadata": {
    "collapsed": false
   },
   "outputs": [
    {
     "data": {
      "text/plain": [
       "[<matplotlib.lines.Line2D at 0x7f21359f12e8>]"
      ]
     },
     "execution_count": 114,
     "metadata": {},
     "output_type": "execute_result"
    },
    {
     "data": {
      "image/png": "[encoded data removed]",
      "text/plain": [
       "<Figure size 432x288 with 1 Axes>"
      ]
     },
     "metadata": {
      "needs_background": "light"
     },
     "output_type": "display_data"
    }
   ],
   "source": [
    "balance = backtest_rsi(df)\n",
    "#print(balance[35000])\n",
    "plt.plot(range(len(balance)), balance)\n",
    "#plt.plot(range(len(balance)), df['open'].values)"
   ]
  },
  {
   "cell_type": "code",
   "execution_count": 107,
   "metadata": {
    "collapsed": false
   },
   "outputs": [
    {
     "data": {
      "text/plain": [
       "[<matplotlib.lines.Line2D at 0x7f2133cac908>]"
      ]
     },
     "execution_count": 107,
     "metadata": {},
     "output_type": "execute_result"
    },
    {
     "data": {
      "image/png": "[encoded data removed]",
      "text/plain": [
       "<Figure size 432x288 with 1 Axes>"
      ]
     },
     "metadata": {
      "needs_background": "light"
     },
     "output_type": "display_data"
    }
   ],
   "source": [
    "test = pd.read_csv(PATH_TO_DATA + \"AAPL.csv\", sep=',')\n",
    "plt.plot(range(len(test['close'].values)), test['close'].values)"
   ]
  }
 ],
 "metadata": {
  "kernelspec": {
   "display_name": "Python 3",
   "language": "python",
   "name": "python3"
  },
  "language_info": {
   "codemirror_mode": {
    "name": "ipython",
    "version": 3
   },
   "file_extension": ".py",
   "mimetype": "text/x-python",
   "name": "python",
   "nbconvert_exporter": "python",
   "pygments_lexer": "ipython3",
   "version": "3.6.3"
  }
 },
 "nbformat": 4,
 "nbformat_minor": 2
}
